{
 "cells": [
  {
   "cell_type": "code",
   "execution_count": 1,
   "id": "1cda7026-4315-4869-9094-ec77c0609b50",
   "metadata": {},
   "outputs": [
    {
     "data": {
      "text/plain": [
       "\"/home/ebenq/Dev/julia/low_d_models\""
      ]
     },
     "execution_count": 1,
     "metadata": {},
     "output_type": "execute_result"
    }
   ],
   "source": [
    "using DelimitedFiles, Revise\n",
    "pwd()\n",
    "cd(\"..\")\n",
    "pwd()"
   ]
  },
  {
   "cell_type": "code",
   "execution_count": 2,
   "id": "7da59bab-6547-4214-9f52-4ccba77ad60f",
   "metadata": {},
   "outputs": [
    {
     "name": "stdout",
     "output_type": "stream",
     "text": [
      "Velocity field visualization functions loaded!\n",
      "\n",
      "Available functions:\n",
      "  - velocity_fields(Ψ, solution; save_path=...)\n",
      "  - velocity_fields_dns(root; save_path=...)\n",
      "  - velocity_fields_comparison(Ψ, solution, root; save_dir=...)\n",
      "Diagnostic functions loaded!\n",
      "\n",
      "Usage:\n",
      "  1. diagnose_velocity_data(\"../data/EQ7Re250-32x49x40\")\n",
      "  2. compare_ode_dns_single_plane(Ψ, solution, \"../data/EQ7Re250-32x49x40\", \"xy\")\n",
      "  3. compare_ode_dns_single_plane(Ψ, solution, \"../data/EQ7Re250-32x49x40\", \"xz\")\n",
      "  4. compare_ode_dns_single_plane(Ψ, solution, \"../data/EQ7Re250-32x49x40\", \"yz\")\n"
     ]
    },
    {
     "data": {
      "text/plain": [
       "myreaddlm (generic function with 1 method)"
      ]
     },
     "execution_count": 2,
     "metadata": {},
     "output_type": "execute_result"
    }
   ],
   "source": [
    "includet(\"src/BasisFunctions.jl\")\n",
    "includet(\"src/BifurcationGenerator.jl\")\n",
    "includet(\"src/Hookstep.jl\")\n",
    "includet(\"src/tw_newton.jl\")\n",
    "includet(\"src/VelocityGraphs.jl\")\n",
    "includet(\"src/velocity_diagnostics.jl\")\n",
    "\n",
    "using .BasisFunctions\n",
    "using .BifurcationGenerator\n",
    "using .Hookstep\n",
    "using .TW_Newton\n",
    "\n",
    "myreaddlm(filename) = readdlm(filename, comments=true, comment_char='%')"
   ]
  },
  {
   "cell_type": "code",
   "execution_count": 17,
   "id": "21637674-3a3e-4ffe-9fcc-042745b86d61",
   "metadata": {},
   "outputs": [
    {
     "name": "stdout",
     "output_type": "stream",
     "text": [
      "Dimensions are Nx * Ny * Nz = 33 * 49 * 41\n",
      "Saved figure to: images/velocity/laminar.png\n"
     ]
    }
   ],
   "source": [
    "fig_laminar = velocity_fields_dns(\"data/laminar/laminar\"; save_path=\"images/velocity/laminar.png\");"
   ]
  },
  {
   "cell_type": "code",
   "execution_count": 34,
   "id": "8d1af6d6-1274-48be-86ad-37d98bd81198",
   "metadata": {},
   "outputs": [
    {
     "data": {
      "text/plain": [
       "find_and_plot_solution (generic function with 1 method)"
      ]
     },
     "execution_count": 34,
     "metadata": {},
     "output_type": "execute_result"
    }
   ],
   "source": [
    "function find_and_plot_solution(JKL, TW; α = 1, γ = 1)\n",
    "    name = string(TW_CONFIGS[TW].name)\n",
    "    Re = TW_CONFIGS[TW].Re_values[1]\n",
    "    J, K, L = JKL\n",
    "    # Set up basis and matrices\n",
    "    Ψ, ijkl = generate_psi_ijkl(JKL; symmetry=SymmetryGroup(TW))\n",
    "    A, Cx, Cz, N = tw_matrices(Ψ)\n",
    "    # find solutions\n",
    "    solutions = find_tw_sol(TW, JKL, Re; α=α, γ=γ)\n",
    "    solution = solutions[1] # get first solution arbitrarily\n",
    "    fig_xz, fig_xy, fig_yz = velocity_fields_comparison(Ψ, solution, \"data/$(lowercase(name))/u$name-2pi1piRe$Re\"; save_dir=\"images/velocity/$name-$J-$K-$L\");\n",
    "end"
   ]
  },
  {
   "cell_type": "code",
   "execution_count": 36,
   "id": "d03c6b57-bd15-4a05-9252-47dc62352dae",
   "metadata": {},
   "outputs": [
    {
     "name": "stdout",
     "output_type": "stream",
     "text": [
      "Running TW1 at Re=200, JKL=(1, 2, 2)\n",
      "cx0=0.0, cz0=0.009, symmetry=Main.TW_Newton.BifurcationGenerator.SymmetryGroup(:TW1)\n",
      "Starting Residual: 0.009007635865720022\n",
      "Solving with hookstep...\n",
      "Search complete.\n",
      "Norm of solution: 0.36386274874557\n",
      "Wave speed in x: 0.0\n",
      "Wave speed in z: -3.29725472001022e-10\n",
      "\n",
      "Run complete.\n",
      "\n",
      "\n",
      "finished generating xz plane graph\n",
      "finished generating xy plane graph\n",
      "finished generating yz plane graph\n",
      "Dimensions are Nx * Ny * Nz = 41 * 49 * 41\n",
      "Saved comparison figures to: images/velocity/TW1-1-2-2\n"
     ]
    },
    {
     "data": {
      "text/plain": [
       "(Scene (1920px, 1080px):\n",
       "  0 Plots\n",
       "  2 Child Scenes:\n",
       "    ├ Scene (1920px, 1080px)\n",
       "    └ Scene (1920px, 1080px), Scene (1920px, 1080px):\n",
       "  0 Plots\n",
       "  2 Child Scenes:\n",
       "    ├ Scene (1920px, 1080px)\n",
       "    └ Scene (1920px, 1080px), Scene (1920px, 1080px):\n",
       "  0 Plots\n",
       "  3 Child Scenes:\n",
       "    ├ Scene (1920px, 1080px)\n",
       "    ├ Scene (1920px, 1080px)\n",
       "    └ Scene (1920px, 1080px))"
      ]
     },
     "execution_count": 36,
     "metadata": {},
     "output_type": "execute_result"
    }
   ],
   "source": [
    "find_and_plot_solution((1, 2, 2), :TW1)"
   ]
  },
  {
   "cell_type": "code",
   "execution_count": null,
   "id": "a6e8debc-492b-4144-b4bb-179a03d9bde3",
   "metadata": {},
   "outputs": [],
   "source": [
    "find_and_plot_solution((2, 2, 4), :TW1)"
   ]
  },
  {
   "cell_type": "code",
   "execution_count": null,
   "id": "486910be-602d-43c8-9a76-00f8425f1a4a",
   "metadata": {},
   "outputs": [],
   "source": [
    "find_and_plot_solution((3, 3, 6), :TW1)"
   ]
  },
  {
   "cell_type": "code",
   "execution_count": 35,
   "id": "fc520c1f-66b5-4403-97d4-13d0f9b84b2a",
   "metadata": {},
   "outputs": [
    {
     "name": "stdout",
     "output_type": "stream",
     "text": [
      "Running TW2 at Re=250, JKL=(1, 2, 2)\n",
      "cx0=0.3959, cz0=0.0, symmetry=Main.TW_Newton.BifurcationGenerator.SymmetryGroup(:TW2)\n",
      "Starting Residual: 0.004977920425553573\n",
      "Solving with hookstep...\n",
      "Stopping because we reached maximum # of Newton iterations\n",
      "Search complete.\n",
      "Norm of solution: 0.4078010130176512\n",
      "Wave speed in x: 0.4128329667796209\n",
      "Wave speed in z: 0.0\n",
      "\n",
      "Run complete.\n",
      "\n",
      "\n",
      "finished generating xz plane graph\n",
      "finished generating xy plane graph\n",
      "finished generating yz plane graph\n",
      "Dimensions are Nx * Ny * Nz = 33 * 49 * 41\n",
      "Saved comparison figures to: images/velocity/TW2-1-2-2\n"
     ]
    },
    {
     "data": {
      "text/plain": [
       "(Scene (1920px, 1080px):\n",
       "  0 Plots\n",
       "  2 Child Scenes:\n",
       "    ├ Scene (1920px, 1080px)\n",
       "    └ Scene (1920px, 1080px), Scene (1920px, 1080px):\n",
       "  0 Plots\n",
       "  2 Child Scenes:\n",
       "    ├ Scene (1920px, 1080px)\n",
       "    └ Scene (1920px, 1080px), Scene (1920px, 1080px):\n",
       "  0 Plots\n",
       "  3 Child Scenes:\n",
       "    ├ Scene (1920px, 1080px)\n",
       "    ├ Scene (1920px, 1080px)\n",
       "    └ Scene (1920px, 1080px))"
      ]
     },
     "execution_count": 35,
     "metadata": {},
     "output_type": "execute_result"
    }
   ],
   "source": [
    "find_and_plot_solution((1, 2, 2), :TW2)"
   ]
  },
  {
   "cell_type": "code",
   "execution_count": null,
   "id": "18763ab3-484d-413d-b9c5-afc670205c25",
   "metadata": {},
   "outputs": [],
   "source": [
    "find_and_plot_solution((2, 2, 4), :TW2)"
   ]
  },
  {
   "cell_type": "code",
   "execution_count": null,
   "id": "add00558-598a-49ad-8180-c63363cd011c",
   "metadata": {},
   "outputs": [],
   "source": [
    "find_and_plot_solution((3, 3, 6), :TW2)"
   ]
  },
  {
   "cell_type": "code",
   "execution_count": null,
   "id": "ed6c8ea6-bee6-46f7-babc-31e4f49dcfd6",
   "metadata": {},
   "outputs": [],
   "source": []
  }
 ],
 "metadata": {
  "kernelspec": {
   "display_name": "Julia 1.11.6",
   "language": "julia",
   "name": "julia-1.11"
  },
  "language_info": {
   "file_extension": ".jl",
   "mimetype": "application/julia",
   "name": "julia",
   "version": "1.11.6"
  }
 },
 "nbformat": 4,
 "nbformat_minor": 5
}
