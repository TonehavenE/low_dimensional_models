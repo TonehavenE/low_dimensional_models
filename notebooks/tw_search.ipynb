{
 "cells": [
  {
   "cell_type": "markdown",
   "id": "9347487e",
   "metadata": {},
   "source": [
    "# Traveling Waves Search\n",
    "\n",
    "2025-10-13\n",
    "\n",
    "Eben Quenneville\n",
    "\n",
    "Searching for traveling waves in the low-d model by projecting known solutions downward. \n",
    "\n"
   ]
  },
  {
   "cell_type": "code",
   "execution_count": 1,
   "id": "507a2b5b-8af6-4338-a8dc-3dbdc6d20992",
   "metadata": {
    "scrolled": true
   },
   "outputs": [],
   "source": [
    "# Polynomials, StaticArrays, OffsetArrays, LinearAlgebra, SparseArrays, StringBuilders, Revise\n",
    "import Pkg\n",
    "using LinearAlgebra\n",
    "using SparseArrays\n",
    "using NLsolve\n",
    "using Dates\n",
    "using Revise\n",
    "using Polynomials\n",
    "using Profile\n",
    "using DelimitedFiles\n",
    "import Base.@kwdef\n",
    "myreaddlm(filename) = readdlm(filename, comments=true, comment_char='%');"
   ]
  },
  {
   "cell_type": "code",
   "execution_count": 2,
   "id": "251267d9",
   "metadata": {},
   "outputs": [],
   "source": [
    "includet(\"src/BasisFunctions.jl\")\n",
    "includet(\"src/BifurcationGenerator.jl\")\n",
    "includet(\"src/Hookstep.jl\")\n",
    "includet(\"src/tw_newton.jl\")\n",
    "\n",
    "using .BasisFunctions\n",
    "using .BifurcationGenerator\n",
    "using .Hookstep\n",
    "using .TW_Newton"
   ]
  },
  {
   "cell_type": "code",
   "execution_count": 3,
   "id": "b976c540-e48d-4173-a274-5e41a81493ca",
   "metadata": {},
   "outputs": [
    {
     "data": {
      "text/plain": [
       "TWConfig"
      ]
     },
     "execution_count": 3,
     "metadata": {},
     "output_type": "execute_result"
    }
   ],
   "source": [
    "@kwdef struct TWConfig\n",
    "    name::Symbol\n",
    "    Re_values::Vector{Int}\n",
    "    cx0::Float64\n",
    "    cz0::Float64\n",
    "    symmetry_group::SymmetryGroup\n",
    "end"
   ]
  },
  {
   "cell_type": "code",
   "execution_count": 4,
   "id": "8f1c76d2-eb4c-459a-97d5-61d231d7c668",
   "metadata": {},
   "outputs": [
    {
     "data": {
      "text/plain": [
       "Dict{Symbol, TWConfig} with 3 entries:\n",
       "  :TW2 => TWConfig(:TW2, [250, 300], 0.3959, 0.0, SymmetryGroup(:TW2))\n",
       "  :TW1 => TWConfig(:TW1, [200, 300], 0.0, 0.009, SymmetryGroup(:TW1))\n",
       "  :TW3 => TWConfig(:TW3, [250, 300], 0.4646, 0.0, SymmetryGroup(:TW2))"
      ]
     },
     "execution_count": 4,
     "metadata": {},
     "output_type": "execute_result"
    }
   ],
   "source": [
    "const TW_CONFIGS = Dict(\n",
    "    :TW1 => TWConfig(\n",
    "        name = :TW1,\n",
    "        Re_values = [200, 300],\n",
    "        cx0 = 0.0,\n",
    "        cz0 = 0.009,\n",
    "        symmetry_group = SymmetryGroup(:TW1)\n",
    "    ),\n",
    "    :TW2 => TWConfig(\n",
    "        name = :TW2,\n",
    "        Re_values = [250, 300],\n",
    "        cx0 = 0.3959,\n",
    "        cz0 = 0.0,\n",
    "        symmetry_group = SymmetryGroup(:TW2)\n",
    "    ),\n",
    "    :TW3 => TWConfig(\n",
    "        name = :TW3,\n",
    "        Re_values = [250, 300],\n",
    "        cx0 = 0.4646,\n",
    "        cz0 = 0.0,\n",
    "        symmetry_group = SymmetryGroup(:TW2)\n",
    "    )\n",
    ")"
   ]
  },
  {
   "cell_type": "code",
   "execution_count": 5,
   "id": "280778f5-4f6c-42a6-b6c9-1ce3a551cfbc",
   "metadata": {},
   "outputs": [
    {
     "data": {
      "text/plain": [
       "50"
      ]
     },
     "execution_count": 5,
     "metadata": {},
     "output_type": "execute_result"
    }
   ],
   "source": [
    "# Global Parameters\n",
    "α, γ = 1, 2\n",
    "ftol = 1e-8\n",
    "max_iterations = 50"
   ]
  },
  {
   "cell_type": "code",
   "execution_count": 6,
   "id": "587c1f64-1464-41b0-8a12-beddaa328d7a",
   "metadata": {},
   "outputs": [
    {
     "data": {
      "text/plain": [
       "run_parameter_search (generic function with 1 method)"
      ]
     },
     "execution_count": 6,
     "metadata": {},
     "output_type": "execute_result"
    }
   ],
   "source": [
    "function run_parameter_search(mode::Symbol, JKL::NTuple{3, Int})\n",
    "    config = TW_CONFIGS[mode]\n",
    "\n",
    "    output = []\n",
    "    \n",
    "    for Re in config.Re_values\n",
    "        println(\"Running $(config.name) at Re=$Re, JKL=$JKL\")\n",
    "        println(\"cx0=$(config.cx0), cz0=$(config.cz0), symmetry=$(config.symmetry_group)\")\n",
    "        Ψ, ijkl = generate_psi_ijkl(JKL; α=α, γ=γ, symmetry=config.symmetry_group)\n",
    "        A_of_Re, Cx, Cz, N = tw_matrices(Ψ)\n",
    "        A = A_of_Re(Re)\n",
    "        Nmodes = length(Ψ)\n",
    "\n",
    "        # Load initial guess\n",
    "        x0 = myreaddlm(\"data/continued_tws/starts/x$(config.name)-2pi1piRe$(Re)-$(JKL[1])-$(JKL[2])-$(JKL[3]).asc\")\n",
    "        cx0 = config.cx0\n",
    "        cz0 = config.cz0\n",
    "        z0 = [x0; cx0; cz0]\n",
    "\n",
    "        println(\"Starting Residual: \", norm(residual(x0, cx0, cz0, A, Cx, Cz, N)))\n",
    "\n",
    "        println(\"Solving with hookstep...\")\n",
    "        hookstep_sol, hookstep_cx, hookstep_cz, hookstep_iterates = newton_hookstep_bordered!(x0, cx0, cz0; A=A, Cx=Cx, Cz=Cz, N=N, verbose=false)\n",
    "        println(\"Search complete.\")\n",
    "    \n",
    "        println(\"Norm of solution: \", norm(hookstep_sol))\n",
    "        println(\"Wave speed in x: \", hookstep_cx)\n",
    "        println(\"Wave speed in z: \", hookstep_cz)\n",
    "\n",
    "        println(\"\\n\\nNow verifying solution by a timestepped approximation:\")\n",
    "        \n",
    "        verified = verify(hookstep_sol, hookstep_cx, hookstep_cz, (A, Cx, Cz, N))\n",
    "\n",
    "        push!(output, (hookstep_sol, hookstep_cx, hookstep_cz, hookstep_iterates))\n",
    "        println(\"\\nRun complete.\\n\\n\")\n",
    "    end\n",
    "    return output\n",
    "end"
   ]
  },
  {
   "cell_type": "markdown",
   "id": "65f51b83-c4ee-49cf-a10a-3f1a8a305f7e",
   "metadata": {},
   "source": [
    "# Hookstep Solving"
   ]
  },
  {
   "cell_type": "code",
   "execution_count": 7,
   "id": "62824cd9-cd1a-4109-8db6-c0dca7d96b35",
   "metadata": {},
   "outputs": [
    {
     "name": "stdout",
     "output_type": "stream",
     "text": [
      "Running TW1 at Re=200, JKL=(1, 2, 2)\n",
      "cx0=0.0, cz0=0.009, symmetry=SymmetryGroup(:TW1)\n",
      "Starting Residual: 0.015475524055859046\n",
      "Solving with hookstep...\n",
      "Search complete.\n",
      "Norm of solution: 0.38669213836496336\n",
      "Wave speed in x: 0.0\n",
      "Wave speed in z: -3.693917763092323e-9\n",
      "\n",
      "\n",
      "Now verifying solution by a timestepped approximation:\n",
      "Starting time evolution...\n",
      "Evolution finished at T = 5.0\n",
      "Calculating analytically shifted state...\n",
      "\n",
      "--- Verification Results ---\n",
      "L2 Error between simulated and analytically shifted wave: 1.3220029266320572e-9\n",
      "Result: The solution behaves like a true traveling wave.\n",
      "\n",
      "Run complete.\n",
      "\n",
      "\n",
      "Running TW1 at Re=300, JKL=(1, 2, 2)\n",
      "cx0=0.0, cz0=0.009, symmetry=SymmetryGroup(:TW1)\n",
      "Starting Residual: 0.010829371591070556\n",
      "Solving with hookstep...\n",
      "Search complete.\n",
      "Norm of solution: 0.3835110139471293\n",
      "Wave speed in x: 0.0\n",
      "Wave speed in z: -6.777753228249082e-10\n",
      "\n",
      "\n",
      "Now verifying solution by a timestepped approximation:\n",
      "Starting time evolution...\n",
      "Evolution finished at T = 5.0\n",
      "Calculating analytically shifted state...\n",
      "\n",
      "--- Verification Results ---\n",
      "L2 Error between simulated and analytically shifted wave: 1.9682078868083433e-10\n",
      "Result: The solution behaves like a true traveling wave.\n",
      "\n",
      "Run complete.\n",
      "\n",
      "\n"
     ]
    },
    {
     "data": {
      "text/plain": [
       "2-element Vector{Any}:\n",
       " ([0.11684224250940252, 3.797615293780035e-9, -8.546098107018524e-10, -0.34879289189751583, -0.0280023812731161, -0.009612963707434648, 0.0614400170352947, 0.004932630938007628, -0.0016933282175598024, -0.04644530942279447  …  -0.004025796301040019, 0.002382221188323836, 0.02285429854349074, -0.013523787348818003, -0.006153719702995323, -0.012633661532235886, 0.003138570803113872, 0.016925242238042038, 0.034747718592264824, -0.008632346932315642], 0.0, -3.693917763092323e-9, [0.1619020883776885 0.024721049551058586 … 0.0 0.009; 0.1360547962150119 0.019702614968415702 … 0.0 -0.011926331590752527; … ; 0.11681359444275968 4.740184433116605e-6 … 0.0 -5.576215197360124e-6; 0.11684224250940252 3.797615293780035e-9 … 0.0 -3.693917763092323e-9])\n",
       " ([0.1040652225801688, 9.32068171939251e-10, 1.2031046319198985e-10, -0.34800772022021303, -0.05344167522579536, -0.006451670709934224, 0.06800121414826094, 0.010442578335854316, -0.0012606659347928523, -0.05685043439334534  …  -0.00402836380714599, 0.0019516022474456282, 0.02061583401839004, -0.009987654869900293, -0.003539091189461038, -0.012885588167513158, 0.0032976481155692515, 0.008710177289120869, 0.03171315836106508, -0.00811595366729804], 0.0, -6.777753228249082e-10, [0.12286217880805325 0.014600589688751693 … 0.0 0.009; 0.06779506775244978 0.024794867150759466 … 0.0 -0.01313751946908207; … ; 0.10406429426646095 3.3667185701181566e-7 … 0.0 -2.045836529635382e-7; 0.1040652225801688 9.32068171939251e-10 … 0.0 -6.777753228249082e-10])"
      ]
     },
     "execution_count": 7,
     "metadata": {},
     "output_type": "execute_result"
    }
   ],
   "source": [
    "JKL = (1, 2, 2)\n",
    "TW = :TW1\n",
    "solutions = run_parameter_search(TW, JKL)"
   ]
  },
  {
   "cell_type": "code",
   "execution_count": 8,
   "id": "02eaf043-f537-46b2-8941-b9c39cbfb019",
   "metadata": {},
   "outputs": [
    {
     "name": "stdout",
     "output_type": "stream",
     "text": [
      "Saving results...\n",
      "Saving to TW1-2pi1piRe200-1-2-2-sol.asc\n",
      "Saving to TW1-2pi1piRe300-1-2-2-sol.asc\n"
     ]
    }
   ],
   "source": [
    "println(\"Saving results...\")\n",
    "for (i, Re) in enumerate(TW_CONFIGS[TW].Re_values)\n",
    "    sol, cx, cz, iterates = solutions[i]\n",
    "    J, K, L = JKL\n",
    "    println(\"Saving to $(TW)-2pi1piRe$(Re)-$J-$K-$L-sol.asc\")\n",
    "    save(sol, \"$(TW)-2pi1piRe$(Re)-$J-$K-$L-sol.asc\")\n",
    "    save_sigma(cx, cz, 10, \"$(TW)-2pi1piRe$(Re)-$J-$K-$L-sol-sigma.asc\")\n",
    "end"
   ]
  },
  {
   "cell_type": "code",
   "execution_count": null,
   "id": "5971408b-ad09-445b-9d52-d74a1de0267a",
   "metadata": {},
   "outputs": [],
   "source": [
    "for TW in (:TW2, )\n",
    "    for JKL in ((4, 4, 8), ) # (1, 2, 2), (2, 2, 4), (3, 3, 6), \n",
    "        solutions = run_parameter_search(TW, JKL)\n",
    "        println(\"Saving results...\")\n",
    "        for (i, Re) in enumerate(TW_CONFIGS[TW].Re_values)\n",
    "            sol, cx, cz, iterates = solutions[i]\n",
    "            J, K, L = JKL\n",
    "            println(\"Saving to $(TW)-2pi1piRe$(Re)-$J-$K-$L-sol.asc\")\n",
    "            save(sol, \"$(TW)-2pi1piRe$(Re)-$J-$K-$L-sol.asc\")\n",
    "            save_sigma(cx, cz, 10, \"$(TW)-2pi1piRe$(Re)-$J-$K-$L-sol-sigma.asc\")\n",
    "        end\n",
    "    end\n",
    "end"
   ]
  },
  {
   "cell_type": "markdown",
   "id": "47f01e2b-b695-4c23-8eb9-ab5dd8fcdf58",
   "metadata": {},
   "source": [
    "# Traveling Wave Derivation"
   ]
  },
  {
   "cell_type": "markdown",
   "id": "cf55c8e6-ceff-44bd-a93f-37d613c6072c",
   "metadata": {},
   "source": [
    "The Navier-Stokes equations are\n",
    "\n",
    "$$\n",
    "\\begin{align}\n",
    "  \\dfrac{\\partial u_{tot}}{\\partial t} = -\\nabla p + \\dfrac{1}{Re} \\nabla^2 u_{tot} - u_{tot} \\cdot \\nabla u_{tot}\n",
    "\\end{align}\n",
    "$$\n",
    "\n",
    "Assume a doubly-periodic domain $\\Omega = [0,L_x) \\times [-1, 1] \\times [0,L_z)$ with periodic boundary conditions in $x,z$ and no-slip conditions $u_{tot} = \\pm1$ at the walls $y=\\pm1$. \n",
    "\n",
    "Let $u_{tot} = y e_x + u$. This breaks the total velocity into sum of the laminar solution\n",
    "$y e_x$ (the base flow) and a fluctuation $u$. Then $\\nabla^2 u_{tot} = \\nabla^2 u$,\n",
    "\n",
    "$$\n",
    "\\begin{align} \n",
    "u_{tot} \\cdot \\nabla u_{tot} \n",
    " &=  (y e_x + u) \\cdot \\nabla (y e_x + u) \\\\\n",
    " &=  y \\dfrac{\\partial u}{\\partial x} + v e_x + u \\cdot \\nabla u,\n",
    "\\end{align}\n",
    "$$\n",
    "and\n",
    "$$\n",
    "\\begin{align}\n",
    "  \\dfrac{\\partial u}{\\partial t} = -\\nabla p - y \\dfrac{\\partial u}{\\partial x} - v e_x + \\dfrac{1}{Re} \\nabla^2 u - u \\cdot \\nabla u\n",
    "\\end{align}\n",
    "$$\n",
    "\n",
    "Replacing the time derivative $\\dfrac{\\partial u}{\\partial t}$ with the spatial derivative term $c_x \\dfrac{\\partial u}{\\partial x} + c_z \\dfrac{\\partial u}{\\partial z}$ transforms the governing equation for the fluctuation $u$ into:\n",
    "\n",
    "$$c_x \\dfrac{\\partial u}{\\partial x} + c_z \\dfrac{\\partial u}{\\partial z} = -\\nabla p - y \\dfrac{\\partial u}{\\partial x} - v e_x + \\dfrac{1}{Re} \\nabla^2 u - u \\cdot \\nabla u$$\n",
    "\n",
    "Since the Navier–Stokes equations for plane Couette flow are unchanged by shifts in the $x$ and $z$ directions, this is subject to the constraints that the solving step is orthogonal to the derivatives in $x$ and $z$:\n",
    "$$\n",
    "\\begin{cases}\n",
    "\\left(\\Delta u, \\dfrac{\\partial u }{\\partial x}\\right) &= 0\\\\\n",
    "\\left(\\Delta u, \\dfrac{\\partial u }{\\partial z}\\right) &= 0\n",
    "\\end{cases}\n",
    "$$"
   ]
  },
  {
   "cell_type": "markdown",
   "id": "1001929f-cb36-46d3-84e3-45b87ccbb63b",
   "metadata": {},
   "source": [
    "### Galerkin Projection\n",
    "We now substitute the basis expansion $u = \\xi_j \\Psi_j$ into this new equation:\n",
    "\n",
    "$$\\left( c_x \\dfrac{\\partial \\Psi_j}{\\partial x} + c_z \\dfrac{\\partial \\Psi_j}{\\partial z} \\right) \\xi_j = -\\nabla p - y \\, \\xi_j \\dfrac{\\partial \\Psi_j }{\\partial x} - \\xi_j \\Psi_{j,v} \\, e_x + \\dfrac{1}{Re} \\xi_j \\nabla^2 \\Psi_j - \\xi_j \\xi_k (\\Psi_j \\cdot \\nabla \\Psi_k)$$\n",
    "\n",
    "Taking the inner product of the entire equation with a test function $\\Psi_i$ gives:\n",
    "\n",
    "$$\\left(\\Psi_i, c_x \\dfrac{\\partial \\Psi_j}{\\partial x} + c_z \\dfrac{\\partial \\Psi_j}{\\partial z}\\right) \\xi_j = -(\\Psi_i, \\nabla p) + \\left[ \\left(\\Psi_i, -y \\dfrac{\\partial \\Psi_j}{\\partial x}\\right) + \\left(\\Psi_i, -\\Psi_{j,v} e_x) + \\dfrac{1}{Re}(\\Psi_i, \\nabla^2 \\Psi_j\\right) \\right] \\xi_j - (\\Psi_i, \\Psi_j \\cdot \\nabla \\Psi_k) \\xi_j \\xi_k$$"
   ]
  },
  {
   "cell_type": "markdown",
   "id": "26b87787-24bb-47aa-8fc3-d7757a3af1d4",
   "metadata": {
    "jp-MarkdownHeadingCollapsed": true
   },
   "source": [
    "### Final Algebraic System\n",
    "\n",
    "After the pressure term vanishes with an application of the divergence theorem and we rename the coefficients $\\xi_j$ to $x_j$, the original ODE system becomes a system of algebraic equations. Let's define two new matrices for the terms on the left-hand side:\n",
    "\n",
    "$$\n",
    "\\begin{align}\n",
    "C_{x,ij} &= (\\Psi_i, \\dfrac{\\partial \\Psi_j}{\\partial x}) \\\\\n",
    "C_{z,ij} &= (\\Psi_i, \\dfrac{\\partial \\Psi_j}{\\partial z})\n",
    "\\end{align}\n",
    "$$\n",
    "\n",
    "additionally, let \n",
    "\n",
    "$$\n",
    "\\begin{align}\n",
    "A_{1,ij} &= (\\Psi_i, -y \\, \\partial \\Psi_j/\\partial x) \\\\\n",
    "A_{2,ij} &= (\\Psi_i, - \\Psi_{j,v} \\, e_x) \\\\\n",
    "A_{3,ij} &= (\\Psi_i, \\nabla^2 \\Psi_j)\\\\\n",
    "N_{jkl} &= (\\Psi_i, -\\Psi_j  \\cdot \\nabla \\Psi_k)\n",
    "\\end{align}\n",
    "$$\n",
    "\n",
    "The final system is thus:\n",
    "\n",
    "$$\\left[ c_x C_{x,ij} + c_z C_{z,ij} \\right] x_j = \\left[ A_{1,ij} + A_{2,ij} + \\dfrac{1}{Re} A_{3,ij} \\right] x_j + N_{ijk} x_j x_k$$"
   ]
  },
  {
   "cell_type": "markdown",
   "id": "83b7c764-d190-4680-b687-a45f23af2ba8",
   "metadata": {
    "jp-MarkdownHeadingCollapsed": true
   },
   "source": [
    "### Implementing the Phase Constraints\n",
    "\n",
    "Now, we substitute the Galerkin expansion, $u = \\sum\\limits_i x_i \\psi_i$, into the first constraint equation. We are substituting the expansion for both $u$ and $\\partial u/\\partial x$:\n",
    "\n",
    "$$\\left( \\sum_{i} \\Delta x_i \\Psi_i, \\dfrac{\\partial}{\\partial x} \\left( \\sum_{j} x_j \\Psi_j \\right) \\right) = 0$$\n",
    "\n",
    "Since the coefficients $\\Delta x_i$ and $x_j$ are scalars, and differentiation is a linear operator, we can pull them out of the inner product integral:\n",
    "\n",
    "$$\\sum_{i} \\sum_{j} \\Delta x_i x_j \\left(\\Psi_i, \\dfrac{\\partial \\Psi_j}{\\partial x}\\right) = 0$$\n",
    "\n",
    "The term inside the summation: $(\\psi_i, \\partial\\psi_j / \\partial x)$ is the definition of the `(i,j)`-th element of $C_x$.\n",
    "\n",
    "$$C_{x, ij} = \\left(\\Psi_i, \\dfrac{\\partial \\Psi_j}{\\partial x} \\right)$$\n",
    "\n",
    "So, we can rewrite the entire equation using this matrix notation:\n",
    "$$\\sum_{i} \\sum_{j} x_i C_{x, ij} x_j = 0$$\n",
    "\n",
    "It can be written concisely in matrix-vector notation as:\n",
    "\n",
    "$$\\Delta \\vec{x}^T \\mathbf{C_x} \\vec{x} = 0$$\n",
    "\n",
    "The exact same procedure can be done for the phase constraint along $z$, resulting in the constraint\n",
    "$$\n",
    "\\Delta \\vec{x}^T \\mathbf{C_z} \\vec{x} = 0\n",
    "$$"
   ]
  },
  {
   "cell_type": "markdown",
   "id": "7421fb10",
   "metadata": {},
   "source": [
    "## Specification of basis set\n",
    "\n",
    "The basis set $\\{ \\Psi_i(x,y,z) : i=1,2,\\ldots n\\}$ should\n",
    "  * individually satisfy zero divergence: $\\nabla \\cdot \\Psi_i = 0$,\n",
    "  * individually satisfy the no-slip boundary conditions at the walls: $\\nabla \\cdot \\Psi_i = 0$ and $\\Psi_i(x,\\pm 1,z) = 0$,\n",
    "  * individually satisfy the periodic boundary conditions in $x$ and $z$,\n",
    "  * be either symmetric or antisymmetric with respect to reflection symmetry in $x$, $y$, and $z$ e.g. $\\Psi_i(-x,y,z) = \\Psi_i(x,y,z)$ or $\\Psi_i(-x,y,z)$\n",
    "  * be complete; i.e. be able to represent all allowable velocity fields in the limit $n \\rightarrow \\infty$.\n",
    "\n",
    "Fourier modes in $x,z$ and polynomials in $y$ are the natural choice. The trick is to meet the \n",
    "divergence, no-slip, and completeness conditions simultaneously. The basis elements represent \n",
    "the velocity field $u = [u,v,w]$ and so have three components, $\\Psi_i = [\\Psi_{i,u}, \\Psi_{i,v}, \\Psi_{i,w}]$, or \n",
    "\n",
    "\\begin{align*}\n",
    "\\Psi_i(x,y,z) = \n",
    "\\begin{bmatrix}\n",
    "\\Psi_{i,u}(x,y,z) \\\\\n",
    "\\Psi_{i,v}(x,y,z) \\\\\n",
    "\\Psi_{i,w}(x,y,z)\n",
    "\\end{bmatrix}\n",
    "\\end{align*}\n",
    "\n",
    "\n",
    "\n",
    "The basis functions $\\Psi_{ijkl}(x,y,z)$ are defined as \n",
    "\n",
    "\\begin{align*}\n",
    "\\Psi_{1jkl}(x,y,z) &=\n",
    "\\begin{bmatrix} \n",
    "E_k(z)\\, S_l'(y) \\\\ \n",
    "0\\\\ \n",
    "0 \n",
    "\\end{bmatrix} \\quad  \\quad \\quad \\quad \\quad \\; \\;\n",
    "\\text{for} \\quad\n",
    "\\begin{matrix}\n",
    "j = 0,\\\\\n",
    "-K \\leq k \\leq K, \\\\\n",
    "0 \\leq l \\leq L\n",
    "\\end{matrix} \\\\\n",
    "\\\\\n",
    "\\Psi_{2jkl}(x,y,z) &= \n",
    "\\begin{bmatrix}\n",
    "0  \\\\\n",
    "\\gamma k \\; E_{k}(z)\\,  S_{l}(y) \\\\\n",
    "\\quad \\; \\; E_{-k}(z)\\, S_{l}'(y)\n",
    "\\end{bmatrix}  \\quad \\quad \\quad\n",
    "\\text{for} \\quad \n",
    "\\begin{matrix}\n",
    "j=0,\\\\\n",
    "1 \\leq |k| \\leq K,\\\\\n",
    "1 \\leq l \\leq L\n",
    "\\end{matrix} \\\\\n",
    "\\\\\n",
    "\\Psi_{3jkl}(x,y,z) &=\n",
    "\\begin{bmatrix} \n",
    "0\\\\ \n",
    "0\\\\ \n",
    "E_j(x)\\, S_l'(y)\n",
    "\\end{bmatrix} \\quad \\quad \\quad \\quad \\quad \\; \\;\n",
    "\\text{for} \\quad\n",
    "\\begin{matrix}\n",
    "-J \\leq j \\leq J,\\\\\n",
    "k=0, \\\\\n",
    "0 \\leq l \\leq L\n",
    "\\end{matrix} \\\\\n",
    "\\\\\n",
    "\\Psi_{4jkl}(x,y,z) &= \n",
    "\\begin{bmatrix}\n",
    "\\quad \\; \\; E_{-j}(x)\\, S_{l}'(y) \\\\\n",
    "\\alpha j \\; E_{j}(x)\\,  S_{l}(y) \\\\\n",
    "0 \n",
    "\\end{bmatrix}  \\quad \\quad \\quad\n",
    "\\text{for} \\quad \n",
    "\\begin{matrix}\n",
    "1 \\leq |j| \\leq J,\\\\\n",
    "k=0,\\\\\n",
    "1 \\leq l \\leq L\n",
    "\\end{matrix} \\\\\n",
    "\\\\\n",
    "\\Psi_{5jkl}(x,y,z) &=\n",
    "\\begin{bmatrix} \n",
    "\\; \\gamma k \\; E_{-j}(x) E_k(z)\\, S_l'(y) \\\\ \n",
    "0\\\\ \n",
    "\\!-\\alpha j \\; E_j(x) E_{-k}(z)\\, S_l'(y) \n",
    "\\end{bmatrix} \\quad \\quad\n",
    "\\text{for} \\quad \n",
    "\\begin{matrix}\n",
    "1 \\leq |j| \\leq J,\\\\\n",
    "1 \\leq |k| \\leq K, \\\\\n",
    "0 \\leq l \\leq L\n",
    "\\end{matrix} \\\\\n",
    "\\\\\n",
    "\\Psi_{6jkl}(x,y,z) &= \n",
    "\\begin{bmatrix}\n",
    "\\quad \\gamma k \\; E_{-j}(x)\\, E_k(z)\\, S_{l}'(y) \\\\\n",
    "\\!\\!\\!\\!\\!\\! 2 \\alpha \\gamma j k \\; E_{j}(x)\\, E_k(z) \\; S_{l}(y) \\\\\n",
    "\\quad \\alpha j \\; E_{j}(x)\\, E_{-k}(z) S_{l}'(y)\\\n",
    "\\end{bmatrix} \\quad\n",
    "\\text{for} \\quad\n",
    "\\begin{matrix}\n",
    "1 \\leq |j| \\leq J,\\\\\n",
    "1 \\leq |k| \\leq K,\\\\\n",
    "1 \\leq l \\leq L\n",
    "\\end{matrix}\n",
    "\\end{align*}\n",
    "\n",
    "where\n",
    "\n",
    "\\begin{align*}\n",
    "E_j(x) &= \\begin{cases} \n",
    "            \\cos(\\alpha j x), & j<0 \\\\ \n",
    "            1, & j = 0 \\\\\n",
    "            \\sin(\\alpha j x), & j>0\n",
    "          \\end{cases}, \\quad \\quad \\quad \n",
    "E_k(z) &= \\begin{cases} \n",
    "            \\cos(\\gamma k z ), & k<0 \\\\ \n",
    "            1, & j = 0 \\\\\n",
    "            \\sin(\\gamma k z), & k>0\n",
    "         \\end{cases}\n",
    "\\end{align*}\n",
    "\n",
    "\n",
    "and\n",
    "\n",
    "\\begin{align*}\n",
    "S_l(y) &= \\begin{cases} \n",
    "          y-y^3/3, & \\quad l=0 \\\\ \n",
    "          (1-y^2)^2 P_{l-1}(y), & \\quad l\\geq 1\n",
    "          \\end{cases} \\\\\n",
    "\\end{align*}\n",
    "\n",
    "where $P_k(y)$ is the $k$th Legendre polynomial. This construction makes $\\{S_l(y) : l \\geq 1\\}$ a basis for $v(y)$, \n",
    "and $\\{S_l'(y) : l \\geq 0\\}$ a basis for $u(y)$ and $w(y)$, where $u(y), v(y), w(y)$ are the wall-normal variations of \n",
    "each $x,z$ Fourier mode. This follows from \n",
    "\n",
    "  * $S_l(y)$ is an $(l+3)$th-order polynomial for $l\\geq0$.\n",
    "  * $S_l(y)$ satisfies $v$ wall BCs $v(\\pm 1) = v'(\\pm 1)$ for $l\\geq 1$. \n",
    "  * $S_1(y) = (1-y^2)^2$ is 4th-order, and that's the lowest nonzero polynomial that satisfies the $v$ BCs.\n",
    "  * $S_l'(y)$ is an $(l+2)$th-order polynomial for $l\\geq0$.\n",
    "  * $S_l'(y)$ satisfies the $u,w$ BCs $u(\\pm 1) = w(\\pm 1) = 0$ for $l\\geq 0$.\n",
    "  * $S_0'(y) = 1-y^2$ is 2nd-order, and that's the lowest-order nonzero polynomials that satisfies $u,w$ BCs.\n",
    "  \n",
    "Thus $\\{S_l(y) : l \\geq 1\\}$ is a basis for $v(y)$, \n",
    "and $\\{S_l'(y) : l \\geq 0\\}$ is a basis for $u(y)$ and $w(y)$.\n",
    "\n",
    "\n",
    "To build a set of basis functions we limit the $x,y,z$ discretization levels respectively\n",
    "with some fixed $J,K,L$ and \n",
    "\n",
    "\\begin{align*}\n",
    "-J \\leq j \\leq J, \\quad 0 \\leq k \\leq K, \\quad -L \\leq l \\leq L\n",
    "\\end{align*}\n",
    "\n",
    "For a given $J,K,L$ the number of modes is \n",
    "\\begin{align*}\n",
    "N =  (2J+1)(2K+1)(2L+1) + 1\n",
    "\\end{align*}"
   ]
  },
  {
   "cell_type": "markdown",
   "id": "1e988bde-02c4-4749-b1c8-a69fac4ece34",
   "metadata": {
    "jp-MarkdownHeadingCollapsed": true
   },
   "source": [
    "### Explanation for Vanishing Pressure Term\n",
    "\n",
    "The pressure term $(\\Psi_i, \\nabla p)$ vanishes because of the specific properties chosen for the basis functions $\\Psi_i$ and the boundary conditions of the domain.\n",
    "\n",
    "The term is given by the integral:\n",
    "$$(\\Psi_i, \\nabla p) = \\dfrac{1}{|\\Omega|} \\int_{\\Omega} \\Psi_i \\cdot \\nabla p \\; d\\Omega$$\n",
    "\n",
    "**Step 1: Use a vector calculus identity.**\n",
    "We use the product rule for divergence: $\\nabla \\cdot (p \\Psi_i) = (\\nabla p) \\cdot \\Psi_i + p (\\nabla \\cdot \\Psi_i)$. Rearranging this gives:\n",
    "$$\\Psi_i \\cdot \\nabla p = \\nabla \\cdot (p \\Psi_i) - p (\\nabla \\cdot \\Psi_i)$$\n",
    "\n",
    "**Step 2: Substitute the identity into the integral.**\n",
    "The integral splits into two parts:\n",
    "$$\\int_{\\Omega} \\Psi_i \\cdot \\nabla p \\; d\\Omega = \\int_{\\Omega} \\nabla \\cdot (p \\Psi_i) \\; d\\Omega - \\int_{\\Omega} p (\\nabla \\cdot \\Psi_i) \\; d\\Omega$$\n",
    "\n",
    "**Step 3: Analyze the first integral.**\n",
    "We can apply the **Divergence Theorem** to the first term, which converts the volume integral into a surface integral over the boundary of the domain $\\partial\\Omega$:\n",
    "$$\\int_{\\Omega} \\nabla \\cdot (p \\Psi_i) \\; d\\Omega = \\oint_{\\partial\\Omega} (p \\Psi_i) \\cdot \\mathbf{n} \\; dS$$\n",
    "where $\\mathbf{n}$ is the outward-pointing normal vector on the boundary.\n",
    "* **On the walls ($y=\\pm1$):** The basis functions are required to satisfy the no-slip condition, so $\\Psi_i = 0$ on the walls. This makes the integral over the walls zero.\n",
    "* **On the periodic boundaries ($x$ and $z$):** The flow variables (like $p$ and $\\Psi_i$) have the same value on opposite faces of the periodic domain (e.g., at $x=0$ and $x=L_x$). However, the outward normal vectors point in opposite directions ($\\mathbf{n} = -e_x$ at $x=0$ and $\\mathbf{n} = +e_x$ at $x=L_x$). Because the function values are identical but the normals are opposite, the integrals over these opposing faces exactly cancel each other out.\n",
    "Therefore, the entire surface integral is zero.\n",
    "\n",
    "**Step 4: Analyze the second integral.**\n",
    "The second term is $-\\int_{\\Omega} p (\\nabla \\cdot \\Psi_i) \\; d\\Omega$.\n",
    "A crucial requirement for the basis functions $\\Psi_i$ is that they are **divergence-free**, i.e., $\\nabla \\cdot \\Psi_i = 0$. This condition is imposed so that any linear combination of these functions, such as our velocity fluctuation $u = \\sum \\xi_j \\Psi_j$, will also be divergence-free and automatically satisfy the incompressibility constraint $\\nabla \\cdot u = 0$.\n",
    "Since $\\nabla \\cdot \\Psi_i = 0$ everywhere in the domain $\\Omega$, the integrand $p (\\nabla \\cdot \\Psi_i)$ is zero, and thus the second integral is also zero.\n",
    "\n",
    "Since both integrals are zero, the entire pressure term $(\\Psi_i, \\nabla p)$ vanishes. This elegant result allows us to eliminate the pressure from the final system of equations, which is a major simplification."
   ]
  }
 ],
 "metadata": {
  "kernelspec": {
   "display_name": "Julia 1.11.6",
   "language": "julia",
   "name": "julia-1.11"
  },
  "language_info": {
   "file_extension": ".jl",
   "mimetype": "application/julia",
   "name": "julia",
   "version": "1.11.6"
  }
 },
 "nbformat": 4,
 "nbformat_minor": 5
}
