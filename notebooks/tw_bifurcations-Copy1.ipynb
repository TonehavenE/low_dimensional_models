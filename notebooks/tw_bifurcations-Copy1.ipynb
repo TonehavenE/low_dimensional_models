{
 "cells": [
  {
   "cell_type": "code",
   "execution_count": 1,
   "id": "34e8b5de-d7bd-4e51-bd4b-989a069e5e88",
   "metadata": {},
   "outputs": [],
   "source": [
    "# Polynomials, StaticArrays, OffsetArrays, LinearAlgebra, SparseArrays, StringBuilders, Revise\n",
    "import Pkg\n",
    "using LinearAlgebra\n",
    "using SparseArrays\n",
    "using NLsolve\n",
    "using Dates\n",
    "using Revise\n",
    "using Polynomials\n",
    "using Profile\n",
    "using DelimitedFiles\n",
    "using Plots\n",
    "import Base.@kwdef\n",
    "myreaddlm(filename) = readdlm(filename, comments=true, comment_char='%');"
   ]
  },
  {
   "cell_type": "code",
   "execution_count": 2,
   "id": "796a5d59-abb9-4522-a887-23236542be9e",
   "metadata": {},
   "outputs": [
    {
     "data": {
      "text/plain": [
       "\"/home/ebenq/Dev/julia/low_d_models\""
      ]
     },
     "execution_count": 2,
     "metadata": {},
     "output_type": "execute_result"
    }
   ],
   "source": [
    "cd(\"..\")\n",
    "pwd()"
   ]
  },
  {
   "cell_type": "code",
   "execution_count": 3,
   "id": "a855aa8b-36cf-40ec-a86f-4fb9233f9309",
   "metadata": {},
   "outputs": [
    {
     "name": "stdout",
     "output_type": "stream",
     "text": [
      "Velocity field visualization functions loaded!\n",
      "\n",
      "Available functions:\n",
      "  - velocity_fields(Ψ, solution; save_path=...)\n",
      "  - velocity_fields_dns(root; save_path=...)\n",
      "  - velocity_fields_comparison(Ψ, solution, root; save_dir=...)\n"
     ]
    }
   ],
   "source": [
    "includet(\"src/BasisFunctions.jl\")\n",
    "includet(\"src/BifurcationGenerator.jl\")\n",
    "includet(\"src/Hookstep.jl\")\n",
    "includet(\"src/tw_newton.jl\")\n",
    "includet(\"src/VelocityGraphs.jl\")\n",
    "includet(\"src/TWBifurcations.jl\")\n",
    "\n",
    "using .BasisFunctions\n",
    "using .BifurcationGenerator\n",
    "using .Hookstep\n",
    "using .TW_Newton\n",
    "using .TWBifurcations"
   ]
  },
  {
   "cell_type": "code",
   "execution_count": 4,
   "id": "008444f1-52cc-4778-be28-5e299a380ea1",
   "metadata": {},
   "outputs": [
    {
     "data": {
      "text/plain": [
       "2"
      ]
     },
     "execution_count": 4,
     "metadata": {},
     "output_type": "execute_result"
    }
   ],
   "source": [
    "# Parameters\n",
    "TW = :TW1\n",
    "JKL = (2, 2, 4)\n",
    "α = 1\n",
    "γ = 2"
   ]
  },
  {
   "cell_type": "code",
   "execution_count": 13,
   "id": "52a6544d-e9a1-42b4-83f3-a9b5b189b2f6",
   "metadata": {},
   "outputs": [
    {
     "name": "stdout",
     "output_type": "stream",
     "text": [
      "Running TW1 at Re=200, JKL=(2, 2, 4)\n",
      "cx0=0.0, cz0=0.009, symmetry=Main.TW_Newton.BifurcationGenerator.SymmetryGroup(:TW1)\n",
      "Starting Residual: 0.05212146714301102\n",
      "Solving with hookstep...\n",
      "Search complete.\n",
      "Norm of solution: 0.4429565705070859\n",
      "Wave speed in x: 0.0\n",
      "Wave speed in z: -0.014310197778889245\n",
      "\n",
      "Run complete.\n",
      "\n",
      "\n",
      "Running TW1 at Re=300, JKL=(2, 2, 4)\n",
      "cx0=0.0, cz0=0.009, symmetry=Main.TW_Newton.BifurcationGenerator.SymmetryGroup(:TW1)\n",
      "Starting Residual: 0.038053207343428826\n",
      "Solving with hookstep...\n",
      "Stopping because we reached maximum # of Newton iterations\n",
      "Search complete.\n",
      "Norm of solution: 0.3957276643107798\n",
      "Wave speed in x: 0.0\n",
      "Wave speed in z: -0.010228360899065298\n",
      "\n",
      "Run complete.\n",
      "\n",
      "\n"
     ]
    },
    {
     "data": {
      "text/plain": [
       "2-element Vector{Any}:\n",
       " ([0.1738204334951748, -0.027440669568591168, 0.023390255299927547, 0.005690569748801665, -0.0042560028078697035, -0.35726190076306885, 0.03676367105093885, -0.028439625595485983, -0.029529997754744707, 0.008053565810494667  …  -0.005805561453985902, -0.005337266462540646, -0.002670511264752808, -0.00011533205429094708, 0.0017852866125269702, 0.0014496472634019772, -0.0010582880220497209, -0.0009443130899586778, 0.0010444971961724582, 0.0010355666448267707], 0.0, -0.014310197778889245, [0.14001350610694951 -0.04377716454147796 … 0.0 0.009; 0.1386433184962425 -0.05187142354993159 … 0.0 -0.029462637072564773; … ; 0.1738172963185856 -0.02743760804258851 … 0.0 -0.014318955725224547; 0.1738204334951748 -0.027440669568591168 … 0.0 -0.014310197778889245])\n",
       " ([0.11976345517350229, -0.027321867787454227, 0.016930316616578796, 0.005105155437272799, -0.0032303996174268034, -0.3449905665118694, -0.03406105721860691, 0.0011672738940245965, -0.010499722646901329, 0.0007971638691733407  …  -0.0027412043290357606, -0.0015572330189297613, -0.0015512887889254662, -0.002235030253644778, 0.0006532209827987121, 0.0010717381236614249, -0.00019145504921280667, -0.0009036993216781637, 0.00029819387621437307, 0.000921029283689005], 0.0, -0.010228360899065298, [0.10282227363429233 -0.04007981034752183 … 0.0 0.009; 0.11696021215738521 -0.010902600327267087 … 0.0 -0.0225032342212911; … ; 0.12012578041333762 -0.028069353711366377 … 0.0 -0.01018003535107475; 0.11976345517350229 -0.027321867787454227 … 0.0 -0.010228360899065298])"
      ]
     },
     "execution_count": 13,
     "metadata": {},
     "output_type": "execute_result"
    }
   ],
   "source": [
    "# Set up basis and matrices\n",
    "Ψ, ijkl = generate_psi_ijkl(JKL; symmetry=SymmetryGroup(TW))\n",
    "A, Cx, Cz, N = tw_matrices(Ψ)\n",
    "solutions_2_2_4 = run_parameter_search(TW, JKL, α=α, γ=γ)"
   ]
  },
  {
   "cell_type": "code",
   "execution_count": 14,
   "id": "959e143e-5257-41c2-bcf5-86c649b90adb",
   "metadata": {},
   "outputs": [
    {
     "data": {
      "text/plain": [
       "-0.014310197778889245"
      ]
     },
     "execution_count": 14,
     "metadata": {},
     "output_type": "execute_result"
    }
   ],
   "source": [
    "# Extract Re=200 solution\n",
    "x0 = solutions_2_2_4[1][1]\n",
    "cx0 = solutions_2_2_4[1][2]\n",
    "cz0 = solutions_2_2_4[1][3]"
   ]
  },
  {
   "cell_type": "code",
   "execution_count": 15,
   "id": "1ce29c29-1c89-4b13-ac9a-ed331ab36922",
   "metadata": {},
   "outputs": [
    {
     "name": "stdout",
     "output_type": "stream",
     "text": [
      "Starting continuation from Re = 200.0...\n"
     ]
    },
    {
     "name": "stderr",
     "output_type": "stream",
     "text": [
      "\u001b[91m\u001b[1m┌ \u001b[22m\u001b[39m\u001b[91m\u001b[1mError: \u001b[22m\u001b[39mFailure to converge with given tolerance = 1.0e-10.\n",
      "\u001b[91m\u001b[1m│ \u001b[22m\u001b[39mStep = 997\n",
      "\u001b[91m\u001b[1m│ \u001b[22m\u001b[39mYou can decrease the tolerance or pass a different norm using the argument `normC`.\n",
      "\u001b[91m\u001b[1m│ \u001b[22m\u001b[39m We reached the smallest value [dsmin] valid for ds, namely 1.0e-6.\n",
      "\u001b[91m\u001b[1m│ \u001b[22m\u001b[39m Stopping continuation at continuation step 997.\n",
      "\u001b[91m\u001b[1m└ \u001b[22m\u001b[39m\u001b[90m@ BifurcationKit ~/.julia/packages/BifurcationKit/Eq8JI/src/continuation/Contbase.jl:67\u001b[39m\n"
     ]
    },
    {
     "name": "stdout",
     "output_type": "stream",
     "text": [
      "Continuation complete. Found 1999 points.\n"
     ]
    },
    {
     "data": {
      "text/plain": [
       " ┌─ Curve type: \u001b[36m\u001b[1mEquilibriumCont\u001b[22m\u001b[39m\n",
       " ├─ Number of points: 1999\n",
       " ├─ Type of vectors: \u001b[36m\u001b[1mVector{Float64}\u001b[22m\u001b[39m\n",
       " ├─ Parameter \u001b[36m\u001b[1mRe\u001b[22m\u001b[39m starts at 287.81193460503704, ends at 340.36367096365205\n",
       " ├─ Algo: \u001b[36m\u001b[1mPALC\u001b[22m\u001b[39m\n",
       " └─ Special points:\n",
       "\n",
       "- #  1, \u001b[0m\u001b[1mendpoint\u001b[22m at Re ≈ +287.81193461,                                                                     step =   0\n",
       "- #  2, \u001b[34m\u001b[1m    hopf\u001b[22m\u001b[39m at Re ≈ +278.78357469 ∈ (+278.78357469, +278.78357469), |δp|=4e-09, [\u001b[31m\u001b[1m   guessL\u001b[22m\u001b[39m], δ = ( 2,  2), step =  72\n",
       "- #  3, \u001b[34m\u001b[1m    hopf\u001b[22m\u001b[39m at Re ≈ +264.18808532 ∈ (+264.18808532, +264.18808532), |δp|=4e-09, [\u001b[31m\u001b[1m   guessL\u001b[22m\u001b[39m], δ = ( 2,  2), step = 176\n",
       "- #  4, \u001b[34m\u001b[1m    hopf\u001b[22m\u001b[39m at Re ≈ +233.70477395 ∈ (+233.70477395, +233.70477395), |δp|=4e-09, [\u001b[31m\u001b[1m   guessL\u001b[22m\u001b[39m], δ = ( 2,  2), step = 392\n",
       "- #  5, \u001b[34m\u001b[1m    hopf\u001b[22m\u001b[39m at Re ≈ +229.38948701 ∈ (+229.38948700, +229.38948701), |δp|=4e-09, [\u001b[31m\u001b[1m   guessL\u001b[22m\u001b[39m], δ = ( 2,  2), step = 423\n",
       "- #  6, \u001b[34m\u001b[1m    hopf\u001b[22m\u001b[39m at Re ≈ +209.08103388 ∈ (+209.08103387, +209.08103388), |δp|=4e-09, [\u001b[31m\u001b[1m   guessL\u001b[22m\u001b[39m], δ = ( 2,  2), step = 567\n",
       "- #  7, \u001b[34m\u001b[1m      bp\u001b[22m\u001b[39m at Re ≈ +177.36244378 ∈ (+177.36244378, +177.36244378), |δp|=3e-14, [\u001b[31m\u001b[1m   guessL\u001b[22m\u001b[39m], δ = ( 1,  0), step = 822\n",
       "- #  8, \u001b[34m\u001b[1m    hopf\u001b[22m\u001b[39m at Re ≈ +179.97335831 ∈ (+179.97335831, +179.97335831), |δp|=4e-09, [\u001b[31m\u001b[1m    guess\u001b[22m\u001b[39m], δ = (-2, -2), step = 849\n",
       "- #  9, \u001b[34m\u001b[1m    hopf\u001b[22m\u001b[39m at Re ≈ +181.40438291 ∈ (+181.40438291, +181.40438292), |δp|=4e-09, [\u001b[31m\u001b[1m    guess\u001b[22m\u001b[39m], δ = (-2, -2), step = 860\n",
       "- # 10, \u001b[34m\u001b[1m    hopf\u001b[22m\u001b[39m at Re ≈ +196.43124583 ∈ (+196.43124583, +196.43124583), |δp|=4e-09, [\u001b[31m\u001b[1m    guess\u001b[22m\u001b[39m], δ = (-2, -2), step = 967\n",
       "- # 11, \u001b[34m\u001b[1m    hopf\u001b[22m\u001b[39m at Re ≈ +199.65029434 ∈ (+199.65029434, +199.65029435), |δp|=4e-09, [\u001b[31m\u001b[1m    guess\u001b[22m\u001b[39m], δ = (-2, -2), step = 990\n",
       "- # 12, \u001b[34m\u001b[1m    hopf\u001b[22m\u001b[39m at Re ≈ +199.98210371 ∈ (+199.98210371, +199.98210374), |δp|=3e-08, [\u001b[32m\u001b[1mconverged\u001b[22m\u001b[39m], δ = (-1, -1), step = 995\n",
       "- # 13, \u001b[34m\u001b[1m    hopf\u001b[22m\u001b[39m at Re ≈ +199.99269912 ∈ (+199.99269912, +199.99269914), |δp|=2e-08, [\u001b[32m\u001b[1mconverged\u001b[22m\u001b[39m], δ = (-1, -1), step = 996\n",
       "- # 14, \u001b[34m\u001b[1m    hopf\u001b[22m\u001b[39m at Re ≈ +200.00730088 ∈ (+200.00730086, +200.00730088), |δp|=2e-08, [\u001b[32m\u001b[1mconverged\u001b[22m\u001b[39m], δ = ( 1,  1), step = 999\n",
       "- # 15, \u001b[34m\u001b[1m    hopf\u001b[22m\u001b[39m at Re ≈ +200.01789629 ∈ (+200.01789626, +200.01789629), |δp|=3e-08, [\u001b[32m\u001b[1mconverged\u001b[22m\u001b[39m], δ = ( 1,  1), step = 1000\n",
       "- # 16, \u001b[34m\u001b[1m    hopf\u001b[22m\u001b[39m at Re ≈ +209.87031832 ∈ (+209.87031832, +209.87031832), |δp|=4e-09, [\u001b[31m\u001b[1m    guess\u001b[22m\u001b[39m], δ = (-2, -2), step = 1073\n",
       "- # 17, \u001b[34m\u001b[1m    hopf\u001b[22m\u001b[39m at Re ≈ +232.12944246 ∈ (+232.12944246, +232.12944246), |δp|=4e-09, [\u001b[31m\u001b[1m    guess\u001b[22m\u001b[39m], δ = (-2, -2), step = 1231\n",
       "- # 18, \u001b[34m\u001b[1m    hopf\u001b[22m\u001b[39m at Re ≈ +245.80096574 ∈ (+245.80096573, +245.80096574), |δp|=4e-09, [\u001b[31m\u001b[1m    guess\u001b[22m\u001b[39m], δ = (-2, -2), step = 1328\n",
       "- # 19, \u001b[34m\u001b[1m    hopf\u001b[22m\u001b[39m at Re ≈ +261.37760747 ∈ (+261.37760747, +261.37760747), |δp|=4e-09, [\u001b[31m\u001b[1m    guess\u001b[22m\u001b[39m], δ = (-2, -2), step = 1439\n",
       "- # 20, \u001b[34m\u001b[1m    hopf\u001b[22m\u001b[39m at Re ≈ +339.93940690 ∈ (+339.93940689, +339.93940690), |δp|=4e-09, [\u001b[31m\u001b[1m   guessL\u001b[22m\u001b[39m], δ = ( 2,  2), step = 1995\n",
       "- # 21, \u001b[0m\u001b[1mendpoint\u001b[22m at Re ≈ +340.50509232,                                                                     step = 1999\n"
      ]
     },
     "execution_count": 15,
     "metadata": {},
     "output_type": "execute_result"
    }
   ],
   "source": [
    "# Continue the branch\n",
    "branch_tw1_2_2_4 = tw_branch_continuation(\n",
    "    Ψ, A, Cx, Cz, N, x0, cx0, cz0, 200.0;\n",
    "    Re_min = 150.0,\n",
    "    Re_max = 350.0,\n",
    "    max_steps = 1000,\n",
    "    tol = 1e-10,\n",
    "    recording_function = power_input\n",
    ")"
   ]
  },
  {
   "cell_type": "code",
   "execution_count": 22,
   "id": "0af23dd3-48ad-4a24-8b00-828f90888909",
   "metadata": {},
   "outputs": [
    {
     "data": {
      "text/plain": [
       "\"/home/ebenq/Dev/julia/low_d_models/images/bifurcations/tw1_power_2_2_4.png\""
      ]
     },
     "execution_count": 22,
     "metadata": {},
     "output_type": "execute_result"
    }
   ],
   "source": [
    "# Plot single branch\n",
    "plt1 = plot_tw_bifurcation(\n",
    "    [branch_tw1_2_2_4],\n",
    "    labels = [\"TW1 (2,2,4)\"],\n",
    "    quantity_name = \"Power Input\",\n",
    "    title = \"TW1 Bifurcation: Power Input vs Re\"\n",
    ")\n",
    "Plots.savefig(plt1, \"images/bifurcations/tw1_power_2_2_4.png\")"
   ]
  },
  {
   "cell_type": "code",
   "execution_count": 27,
   "id": "b04c3a1c-6f7a-4ffd-9bfb-a939e983cb1f",
   "metadata": {},
   "outputs": [
    {
     "data": {
      "text/plain": [
       "\"/home/ebenq/Dev/julia/low_d_models/images/bifurcations/tw1_wavespeed_2_2_4.png\""
      ]
     },
     "execution_count": 27,
     "metadata": {},
     "output_type": "execute_result"
    }
   ],
   "source": [
    "plt = Plots.plot(\n",
    "        xlabel = \"Reynolds Number\",\n",
    "        ylabel = \"Wavespeed (cz)\",\n",
    "        title = \"TW1 Bifurcation: Wavespeed (cz) vs Re with (J, K, L) = $JKL\",\n",
    "        legend = :best,\n",
    "        grid = true,\n",
    "        size = (1000, 700),\n",
    "        dpi = 300\n",
    ")\n",
    "colors = [:blue, :red, :green, :orange, :purple, :brown, :pink, :gray]\n",
    "labels = nothing\n",
    "for (i, branch) in enumerate([branch_tw1_2_2_4])\n",
    "    label = labels !== nothing ? labels[i] : \"Branch $i\"\n",
    "    color = colors[mod1(i, length(colors))]\n",
    "    \n",
    "    Plots.plot!(plt, branch.param, branch.cz,\n",
    "          label = label,\n",
    "          color = color,\n",
    "          linewidth = 2.5,\n",
    "          # marker = :circle,\n",
    "          # markersize = 3,\n",
    "          # alpha = 0.8\n",
    "    )\n",
    "end\n",
    "Plots.savefig(plt, \"images/bifurcations/tw1_wavespeed_2_2_4.png\")"
   ]
  },
  {
   "cell_type": "code",
   "execution_count": null,
   "id": "5730a8f7-824c-4daf-ba6c-3300f1fa4fff",
   "metadata": {},
   "outputs": [],
   "source": [
    "# Do the same for (J, K, L) = (1, 2, 2)\n",
    "JKL = (1, 2, 2)\n",
    "# Set up basis and matrices\n",
    "Ψ, ijkl = generate_psi_ijkl(JKL; symmetry=SymmetryGroup(TW))\n",
    "A, Cx, Cz, N = tw_matrices(Ψ)\n",
    "solutions_1_2_2 = run_parameter_search(TW, JKL, α=α, γ=γ)\n",
    "# Extract Re=200 solution\n",
    "x0 = solutions_1_2_2[1][1]\n",
    "cx0 = solutions_1_2_2[1][2]\n",
    "cz0 = solutions_1_2_2[1][3]"
   ]
  },
  {
   "cell_type": "code",
   "execution_count": 20,
   "id": "fc0f9259-9a9a-43a6-809c-50d1a0ca9a77",
   "metadata": {},
   "outputs": [
    {
     "name": "stdout",
     "output_type": "stream",
     "text": [
      "Starting continuation from Re = 200.0...\n",
      "Continuation complete. Found 2002 points.\n"
     ]
    },
    {
     "data": {
      "text/plain": [
       " ┌─ Curve type: \u001b[36m\u001b[1mEquilibriumCont\u001b[22m\u001b[39m\n",
       " ├─ Number of points: 2002\n",
       " ├─ Type of vectors: \u001b[36m\u001b[1mVector{Float64}\u001b[22m\u001b[39m\n",
       " ├─ Parameter \u001b[36m\u001b[1mRe\u001b[22m\u001b[39m starts at 185.11653498704231, ends at 340.72549529257515\n",
       " ├─ Algo: \u001b[36m\u001b[1mPALC\u001b[22m\u001b[39m\n",
       " └─ Special points:\n",
       "\n",
       "- #  1, \u001b[0m\u001b[1mendpoint\u001b[22m at Re ≈ +185.25795634,                                                                     step =  -1\n",
       "- #  2, \u001b[34m\u001b[1m      bp\u001b[22m\u001b[39m at Re ≈ +139.86170387 ∈ (+139.86170387, +139.86170387), |δp|=4e-09, [\u001b[31m\u001b[1m    guess\u001b[22m\u001b[39m], δ = ( 1,  0), step = 320\n",
       "- #  3, \u001b[34m\u001b[1m      bp\u001b[22m\u001b[39m at Re ≈ +124.55467284 ∈ (+124.55467284, +124.55467284), |δp|=1e-14, [\u001b[31m\u001b[1m   guessL\u001b[22m\u001b[39m], δ = (-1,  0), step = 456\n",
       "- #  4, \u001b[34m\u001b[1m    hopf\u001b[22m\u001b[39m at Re ≈ +187.92354313 ∈ (+187.92354313, +187.92354313), |δp|=4e-09, [\u001b[31m\u001b[1m   guessL\u001b[22m\u001b[39m], δ = (-2, -2), step = 910\n",
       "- #  5, \u001b[34m\u001b[1m    hopf\u001b[22m\u001b[39m at Re ≈ +201.84972374 ∈ (+201.84972373, +201.84972374), |δp|=4e-09, [\u001b[31m\u001b[1m    guess\u001b[22m\u001b[39m], δ = (-2, -2), step = 1019\n",
       "- #  6, \u001b[0m\u001b[1mendpoint\u001b[22m at Re ≈ +340.86691665,                                                                     step = 2002\n"
      ]
     },
     "execution_count": 20,
     "metadata": {},
     "output_type": "execute_result"
    }
   ],
   "source": [
    "# Continue the branch\n",
    "branch_tw1_1_2_2 = tw_branch_continuation(\n",
    "    Ψ, A, Cx, Cz, N, x0, cx0, cz0, 200.0;\n",
    "    Re_min = 100.0,\n",
    "    Re_max = 500.0,\n",
    "    max_steps = 1000,\n",
    "    tol = 1e-10,\n",
    "    recording_function = power_input\n",
    ")"
   ]
  },
  {
   "cell_type": "code",
   "execution_count": 21,
   "id": "f64ae87e-afc1-494e-bb8f-03f8249cc868",
   "metadata": {},
   "outputs": [
    {
     "data": {
      "text/plain": [
       "\"/home/ebenq/Dev/julia/low_d_models/images/bifurcations/tw1_power_1_2_2.png\""
      ]
     },
     "execution_count": 21,
     "metadata": {},
     "output_type": "execute_result"
    }
   ],
   "source": [
    "# Plot single branch\n",
    "plt2 = plot_tw_bifurcation(\n",
    "    [branch_tw1_1_2_2],\n",
    "    labels = [\"TW1 (1,2,2)\"],\n",
    "    quantity_name = \"Power Input\",\n",
    "    title = \"TW1 Bifurcation: Power Input vs Re\"\n",
    ")\n",
    "Plots.savefig(plt2, \"images/bifurcations/tw1_power_1_2_2.png\")"
   ]
  },
  {
   "cell_type": "code",
   "execution_count": 28,
   "id": "fd6835c9-0c3f-45a2-ab77-2134c701e848",
   "metadata": {},
   "outputs": [
    {
     "data": {
      "text/plain": [
       "\"/home/ebenq/Dev/julia/low_d_models/images/bifurcations/tw1_wavespeed_1_2_2.png\""
      ]
     },
     "execution_count": 28,
     "metadata": {},
     "output_type": "execute_result"
    }
   ],
   "source": [
    "plt = Plots.plot(\n",
    "        xlabel = \"Reynolds Number\",\n",
    "        ylabel = \"Wavespeed (cz)\",\n",
    "        title = \"TW1 Bifurcation: Wavespeed (cz) vs Re with (J, K, L) = $JKL\",\n",
    "        legend = :best,\n",
    "        grid = true,\n",
    "        size = (1000, 700),\n",
    "        dpi = 300\n",
    ")\n",
    "colors = [:blue, :red, :green, :orange, :purple, :brown, :pink, :gray]\n",
    "labels = nothing\n",
    "for (i, branch) in enumerate([branch_tw1_1_2_2])\n",
    "    label = labels !== nothing ? labels[i] : \"Branch $i\"\n",
    "    color = colors[mod1(i, length(colors))]\n",
    "    \n",
    "    Plots.plot!(plt, branch.param, branch.cz,\n",
    "          label = label,\n",
    "          color = color,\n",
    "          linewidth = 2.5,\n",
    "          # marker = :circle,\n",
    "          # markersize = 3,\n",
    "          # alpha = 0.8\n",
    "    )\n",
    "end\n",
    "Plots.savefig(plt, \"images/bifurcations/tw1_wavespeed_1_2_2.png\")"
   ]
  },
  {
   "cell_type": "code",
   "execution_count": 5,
   "id": "82a4cb9f-6c24-4e7e-9f29-ba3ad2623c8c",
   "metadata": {},
   "outputs": [
    {
     "data": {
      "text/plain": [
       "generate_bifurcations_z_traveling (generic function with 1 method)"
      ]
     },
     "execution_count": 5,
     "metadata": {},
     "output_type": "execute_result"
    }
   ],
   "source": [
    "# we can generalize this to a single function, quite easily:\n",
    "function generate_bifurcations_z_traveling(JKL, TW; α = 1, γ = 2)\n",
    "    J, K, L = JKL\n",
    "    Ψ, ijkl = generate_psi_ijkl(JKL; symmetry=SymmetryGroup(TW))\n",
    "    A, Cx, Cz, N = tw_matrices(Ψ)\n",
    "    solutions = run_parameter_search(TW, JKL, α=α, γ=γ)\n",
    "    # Extract Re=200 solution\n",
    "    x0 = solutions[1][1]\n",
    "    cx0 = solutions[1][2]\n",
    "    cz0 = solutions[1][3]\n",
    "    # Continue the branch\n",
    "    branch_tw = tw_branch_continuation(\n",
    "        Ψ, A, Cx, Cz, N, x0, cx0, cz0, 200.0;\n",
    "        Re_min = 100.0,\n",
    "        Re_max = 500.0,\n",
    "        max_steps = 1000,\n",
    "        tol = 1e-10,\n",
    "        recording_function = power_input\n",
    "    )\n",
    "    # Plot single branch\n",
    "    plt2 = plot_tw_bifurcation(\n",
    "        [branch_tw],\n",
    "        labels = [\"TW1 $JKL\"],\n",
    "        quantity_name = \"Power Input\",\n",
    "        title = \"TW1 Bifurcation: Power Input vs Re\"\n",
    "    )\n",
    "    Plots.savefig(plt2, \"images/bifurcations/tw1_power_$J_$K_$L.png\")\n",
    "    plt = Plots.plot(\n",
    "        xlabel = \"Reynolds Number\",\n",
    "        ylabel = \"Wavespeed (cz)\",\n",
    "        title = \"TW1 Bifurcation: Wavespeed (cz) vs Re with (J, K, L) = $JKL\",\n",
    "        legend = :best,\n",
    "        grid = true,\n",
    "        size = (1000, 700),\n",
    "        dpi = 300\n",
    "    )\n",
    "    colors = [:blue, :red, :green, :orange, :purple, :brown, :pink, :gray]\n",
    "    labels = nothing\n",
    "    for (i, branch) in enumerate([branch_tw])\n",
    "        label = labels !== nothing ? labels[i] : \"Branch $i\"\n",
    "        color = colors[mod1(i, length(colors))]\n",
    "        \n",
    "        Plots.plot!(plt, branch.param, branch.cz,\n",
    "              label = label,\n",
    "              color = color,\n",
    "              linewidth = 2.5,\n",
    "              # marker = :circle,\n",
    "              # markersize = 3,\n",
    "              # alpha = 0.8\n",
    "        )\n",
    "    end\n",
    "    Plots.savefig(plt, \"images/bifurcations/tw1_wavespeed_$J_$K_$L.png\")\n",
    "end\n",
    "                "
   ]
  },
  {
   "cell_type": "code",
   "execution_count": null,
   "id": "65fc6be2-0ad9-4dd4-a0f9-85acd2330572",
   "metadata": {},
   "outputs": [
    {
     "name": "stdout",
     "output_type": "stream",
     "text": [
      "Running TW1 at Re=200, JKL=(3, 3, 6)\n"
     ]
    }
   ],
   "source": [
    "generate_bifurcations_z_traveling((3, 3, 6), TW)"
   ]
  },
  {
   "cell_type": "code",
   "execution_count": null,
   "id": "2bf45931-c46d-4841-a57a-28c09ad47b3b",
   "metadata": {},
   "outputs": [],
   "source": []
  }
 ],
 "metadata": {
  "kernelspec": {
   "display_name": "Julia 1.11.6",
   "language": "julia",
   "name": "julia-1.11"
  },
  "language_info": {
   "file_extension": ".jl",
   "mimetype": "application/julia",
   "name": "julia",
   "version": "1.11.6"
  }
 },
 "nbformat": 4,
 "nbformat_minor": 5
}
