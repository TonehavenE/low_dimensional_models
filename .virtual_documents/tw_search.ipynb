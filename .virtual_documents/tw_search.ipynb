


# Polynomials, StaticArrays, OffsetArrays, LinearAlgebra, SparseArrays, StringBuilders, Revise
import Pkg
using LinearAlgebra
using SparseArrays
using NLsolve
using Dates
using Revise
using Polynomials
using Profile
using DelimitedFiles
import Base.@kwdef
myreaddlm(filename) = readdlm(filename, comments=true, comment_char='%');


includet("../src/BasisFunctions.jl")
includet("../src/BifurcationGenerator.jl")
includet("../src/Hookstep.jl")
includet("../src/tw_newton.jl")

using .BasisFunctions
using .BifurcationGenerator
using .Hookstep
using .TW_Newton


@kwdef struct TWConfig
    name::Symbol
    Re_values::Vector{Int}
    cx0::Float64
    cz0::Float64
    symmetry_group::SymmetryGroup
end


const TW_CONFIGS = Dict(
    :TW1 => TWConfig(
        name = :TW1,
        Re_values = [200, 300],
        cx0 = 0.0,
        cz0 = 0.009,
        symmetry_group = SymmetryGroup(:TW1)
    ),
    :TW2 => TWConfig(
        name = :TW2,
        Re_values = [250, 300],
        cx0 = 0.3959,
        cz0 = 0.0,
        symmetry_group = SymmetryGroup(:TW2)
    ),
    :TW3 => TWConfig(
        name = :TW3,
        Re_values = [250, 300],
        cx0 = 0.4646,
        cz0 = 0.0,
        symmetry_group = SymmetryGroup(:TW2)
    )
)


# Global Parameters
α, γ = 1, 2
ftol = 1e-8
max_iterations = 50


function run_parameter_search(mode::Symbol, JKL::NTuple{3, Int})
    config = TW_CONFIGS[mode]

    output = []
    
    for Re in config.Re_values
        println("Running $(config.name) at Re=$Re, JKL=$JKL")
        println("cx0=$(config.cx0), cz0=$(config.cz0), symmetry=$(config.symmetry_group)")
        Ψ, ijkl = generate_psi_ijkl(JKL; α=α, γ=γ, symmetry=config.symmetry_group)
        A_of_Re, Cx, Cz, N = tw_matrices(Ψ)
        A = A_of_Re(Re)
        Nmodes = length(Ψ)

        # Load initial guess
        x0 = myreaddlm("data/continued_tws/starts/x$(config.name)-2pi1piRe$(Re)-$(JKL[1])-$(JKL[2])-$(JKL[3]).asc")
        cx0 = config.cx0
        cz0 = config.cz0
        z0 = [x0; cx0; cz0]

        println("Starting Residual: ", norm(residual(x0, cx0, cz0, A, Cx, Cz, N)))

        println("Solving with hookstep...")
        hookstep_sol, hookstep_cx, hookstep_cz, hookstep_iterates = newton_hookstep_bordered!(x0, cx0, cz0; A=A, Cx=Cx, Cz=Cz, N=N, verbose=false)
        println("Search complete.")
    
        println("Norm of solution: ", norm(hookstep_sol))
        println("Wave speed in x: ", hookstep_cx)
        println("Wave speed in z: ", hookstep_cz)

        println("\n\nNow verifying solution by a timestepped approximation:")
        
        verified = verify(hookstep_sol, hookstep_cx, hookstep_cz, (A, Cx, Cz, N))

        push!(output, (hookstep_sol, hookstep_cx, hookstep_cz, hookstep_iterates))
        println("\nRun complete.\n\n")
    end
    return output
end





JKL = (4, 4, 8)
TW = :TW1
solutions = run_parameter_search(TW, JKL)


println("Saving results...")
for (i, Re) in enumerate(TW_CONFIGS[TW].Re_values)
    sol, cx, cz, iterates = solutions[i]
    J, K, L = JKL
    println("Saving to $(TW)-2pi1piRe$(Re)-$J-$K-$L-sol.asc")
    save(sol, "$(TW)-2pi1piRe$(Re)-$J-$K-$L-sol.asc")
    save_sigma(cx, cz, 10, "$(TW)-2pi1piRe$(Re)-$J-$K-$L-sol-sigma.asc")
end


for TW in (:TW2, )
    for JKL in ((4, 4, 8), ) # (1, 2, 2), (2, 2, 4), (3, 3, 6), 
        solutions = run_parameter_search(TW, JKL)
        println("Saving results...")
        for (i, Re) in enumerate(TW_CONFIGS[TW].Re_values)
            sol, cx, cz, iterates = solutions[i]
            J, K, L = JKL
            println("Saving to $(TW)-2pi1piRe$(Re)-$J-$K-$L-sol.asc")
            save(sol, "$(TW)-2pi1piRe$(Re)-$J-$K-$L-sol.asc")
            save_sigma(cx, cz, 10, "$(TW)-2pi1piRe$(Re)-$J-$K-$L-sol-sigma.asc")
        end
    end
end





















