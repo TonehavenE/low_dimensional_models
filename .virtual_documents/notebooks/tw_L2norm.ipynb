


includet("src/BasisFunctions.jl")
includet("src/BifurcationGenerator.jl")
includet("src/Hookstep.jl")
includet("src/tw_newton.jl")
includet("src/VelocityGraphs.jl")

using .BasisFunctions
using .BifurcationGenerator
using .Hookstep
using .TW_Newton

myreaddlm(filename) = readdlm(filename, comments=true, comment_char='%')


@kwdef struct TWConfig
    name::Symbol
    Re_values::Vector{Int}
    cx0::Float64
    cz0::Float64
    symmetry_group::SymmetryGroup
end
const TW_CONFIGS = Dict(
    :TW1 => TWConfig(
        name = :TW1,
        Re_values = [200, 300],
        cx0 = 0.0,
        cz0 = 0.009,
        symmetry_group = SymmetryGroup(:TW1)
    ),
    :TW2 => TWConfig(
        name = :TW2,
        Re_values = [250, 300],
        cx0 = 0.3959,
        cz0 = 0.0,
        symmetry_group = SymmetryGroup(:TW2)
    ),
    :TW3 => TWConfig(
        name = :TW3,
        Re_values = [250, 300],
        cx0 = 0.4646,
        cz0 = 0.0,
        symmetry_group = SymmetryGroup(:TW2)
    )
)


# discretizations = ((1, 1, 2), (1, 2, 2), (2, 2, 4), (3, 3, 6), (4, 4, 8), (5, 5, 10), (6, 6, 12))
discretizations = ((1, 1, 2), (1, 2, 2), (2, 2, 2), (2, 2, 4), (2, 3, 4), (3, 3, 4), (3, 3, 6))
for jkl in discretizations
    println("generating $jkl")
    _, ijkl, _, _, _ = generate_psi_ijkl_a_b_n(jkl::Tuple{Int64, Int64, Int64}; α = 1, γ = 2, chebyshev=true, symmetry=SymmetryGroup(:TW1))
    J, K, L = jkl
    ijkl2file(ijkl, "ijkls/ijkl-sxytxz-$J-$K-$L")
end



cd("data/tw1")
for jkl in discretizations
    # e.g. projectfield ijkl-sztx-1-2-2.asc uTW1-2pi1piRe200.nc TW1-2pi1piRe200-1-2-2
    J, K, L = jkl
    cmd = ` projectfield ../../ijkls/ijkl-sxytxz-$J-$K-$L.asc uTW1-2pi1piRe200.nc TW1-2pi1piRe200-$J-$K-$L`
    run(cmd)
end
cd("../..")


chflow_norm = 0.275751
# Global Parameters
α, γ = 1, 2
ftol = 1e-8
data = []

function percent_error(actual, guess)
    return abs(guess - actual) / actual * 100
end

function run_parameter_search(mode::Symbol, JKL::NTuple{3, Int})
    Re = 200
    config = TW_CONFIGS[mode]

    output = []

    println("Running $(config.name) at Re=$Re, JKL=$JKL")
    println("cx0=$(config.cx0), cz0=$(config.cz0), symmetry=$(config.symmetry_group)")
    Ψ, ijkl = generate_psi_ijkl(JKL; α=α, γ=γ, symmetry=config.symmetry_group)
    A_of_Re, Cx, Cz, N = tw_matrices(Ψ)
    A = A_of_Re(Re)
    Nmodes = length(Ψ)

    # Load initial guess
    x0 = myreaddlm("./data/tw1/x$(config.name)-2pi1piRe$(Re)-$(JKL[1])-$(JKL[2])-$(JKL[3]).asc")
    cx0 = config.cx0
    cz0 = config.cz0
    z0 = [x0; cx0; cz0]

    println("Starting Residual: ", norm(residual(x0, cx0, cz0, A, Cx, Cz, N)))

    println("Solving with hookstep...")
    hookstep_sol, hookstep_cx, hookstep_cz, hookstep_iterates = newton_hookstep_bordered!(x0, cx0, cz0; A=A, Cx=Cx, Cz=Cz, N=N, verbose=false)
    println("Search complete.")

    println("Norm of solution: ", norm(hookstep_sol))
    println("Wave speed in x: ", hookstep_cx)
    println("Wave speed in z: ", hookstep_cz)

    push!(output, (hookstep_sol, hookstep_cx, hookstep_cz, hookstep_iterates))
    println("\nRun complete.\n\n")
    return output
end


for jkl in discretizations
    x = run_parameter_search(:TW1, jkl)[1][1]
    println(size(x))
    println(norm(x))
    println(x)
    push!(data, percent_error(chflow_norm, norm(x)))
end


# for jkl in discretizations
#     x = myreaddlm("data/tw1/xTW1-2pi1piRe200-$(jkl[1])-$(jkl[2])-$(jkl[3]).asc")
#     println(size(x))
#     println(norm(x))
#     println(x)
#     push!(data, percent_error(chflow_norm, norm(x)))
# end


data




dimension_vector = []
for jkl in discretizations
    x = myreaddlm("data/tw1/xTW1-2pi1piRe200-$(jkl[1])-$(jkl[2])-$(jkl[3]).asc")
    push!(dimension_vector, size(x)[1])
end


plot(dimension_vector, data)



