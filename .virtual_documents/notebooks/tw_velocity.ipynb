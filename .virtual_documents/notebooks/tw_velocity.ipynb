using DelimitedFiles, Revise
pwd()
cd("..")
pwd()


includet("src/BasisFunctions.jl")
includet("src/BifurcationGenerator.jl")
includet("src/Hookstep.jl")
includet("src/tw_newton.jl")
includet("src/VelocityGraphs.jl")
includet("src/velocity_diagnostics.jl")

using .BasisFunctions
using .BifurcationGenerator
using .Hookstep
using .TW_Newton

myreaddlm(filename) = readdlm(filename, comments=true, comment_char='%')


fig_laminar = velocity_fields_dns("data/laminar/laminar"; save_path="images/velocity/laminar.png");


function find_and_plot_solution(JKL, TW; α = 1, γ = 1)
    name = string(TW_CONFIGS[TW].name)
    Re = TW_CONFIGS[TW].Re_values[1]
    J, K, L = JKL
    # Set up basis and matrices
    Ψ, ijkl = generate_psi_ijkl(JKL; symmetry=SymmetryGroup(TW))
    A, Cx, Cz, N = tw_matrices(Ψ)
    # find solutions
    solutions = find_tw_sol(TW, JKL, Re; α=α, γ=γ)
    solution = solutions[1] # get first solution arbitrarily
    fig_xz, fig_xy, fig_yz = velocity_fields_comparison(Ψ, solution, "data/$(lowercase(name))/u$name-2pi1piRe$Re"; save_dir="images/velocity/$name-$J-$K-$L");
end


find_and_plot_solution((1, 2, 2), :TW1)


find_and_plot_solution((2, 2, 4), :TW1)


find_and_plot_solution((3, 3, 6), :TW1)


find_and_plot_solution((1, 2, 2), :TW2)


find_and_plot_solution((2, 2, 4), :TW2)


find_and_plot_solution((3, 3, 6), :TW2)



