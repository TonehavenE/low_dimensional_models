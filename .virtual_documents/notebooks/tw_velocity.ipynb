using Plots, DelimitedFiles, LinearAlgebra, Statistics, Revise
pwd()
cd("..")
pwd()


includet("src/BasisFunctions.jl")
includet("src/BifurcationGenerator.jl")
includet("src/Hookstep.jl")
includet("src/tw_newton.jl")
includet("src/VelocityGraphs.jl")
includet("src/velocity_diagnostics.jl")

using .BasisFunctions
using .BifurcationGenerator
using .Hookstep
using .TW_Newton

myreaddlm(filename) = readdlm(filename, comments=true, comment_char='%')


# Parameters
TW = :TW1
JKL = (2, 2, 4)
α = 1
γ = 2


# Set up basis and matrices
Ψ, ijkl = generate_psi_ijkl(JKL; symmetry=SymmetryGroup(TW))
A, Cx, Cz, N = tw_matrices(Ψ)
solutions = run_parameter_search(TW, JKL, α=α, γ=γ)
solution = solutions[1][1]


velocity_fields_comparison(Ψ, solution, "data/tw1/uTW1-2pi1piRe200"; save_dir="images/velocity/tw1-2-2-4")



