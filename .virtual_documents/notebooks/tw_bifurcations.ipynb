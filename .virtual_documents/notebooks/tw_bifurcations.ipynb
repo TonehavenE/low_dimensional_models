# Polynomials, StaticArrays, OffsetArrays, LinearAlgebra, SparseArrays, StringBuilders, Revise
import Pkg
using LinearAlgebra
using SparseArrays
using NLsolve
using Dates
using Revise
using Polynomials
using Profile
using DelimitedFiles
import Base.@kwdef
myreaddlm(filename) = readdlm(filename, comments=true, comment_char='%');


cd("..")
pwd()


includet("src/BasisFunctions.jl")
includet("src/BifurcationGenerator.jl")
includet("src/Hookstep.jl")
includet("src/tw_newton.jl")
includet("src/VelocityGraphs.jl")
includet("src/TWBifurcations.jl")

using .BasisFunctions
using .BifurcationGenerator
using .Hookstep
using .TW_Newton
using .TWBifurcations


# Set up basis and matrices
Ψ, ijkl = generate_psi_ijkl((2,2,4); symmetry=SymmetryGroup(:TW1))
A, Cx, Cz, N = tw_matrices(Ψ)


# 2. Load initial TW solution
x0 = vec(myreaddlm("data/continued_tws/starts/xTW1-2pi1piRe200-2-2-4.asc"))
cx0 = 0.0
cz0 = 0.009;
# Global Parameters
α, γ = 1, 2
ftol = 1e-8



@kwdef struct TWConfig
    name::Symbol
    Re_values::Vector{Int}
    cx0::Float64
    cz0::Float64
    symmetry_group::SymmetryGroup
end

const TW_CONFIGS = Dict(
    :TW1 => TWConfig(
        name = :TW1,
        Re_values = [200, 300],
        cx0 = 0.0,
        cz0 = 0.009,
        symmetry_group = SymmetryGroup(:TW1)
    ),
    :TW2 => TWConfig(
        name = :TW2,
        Re_values = [250, 300],
        cx0 = 0.3959,
        cz0 = 0.0,
        symmetry_group = SymmetryGroup(:TW2)
    ),
    :TW3 => TWConfig(
        name = :TW3,
        Re_values = [250, 300],
        cx0 = 0.4646,
        cz0 = 0.0,
        symmetry_group = SymmetryGroup(:TW2)
    )
)

function run_parameter_search(mode::Symbol, JKL::NTuple{3, Int})
    config = TW_CONFIGS[mode]

    output = []
    
    for Re in config.Re_values
        println("Running $(config.name) at Re=$Re, JKL=$JKL")
        println("cx0=$(config.cx0), cz0=$(config.cz0), symmetry=$(config.symmetry_group)")
        Ψ, ijkl = generate_psi_ijkl(JKL; α=α, γ=γ, symmetry=config.symmetry_group)
        A_of_Re, Cx, Cz, N = tw_matrices(Ψ)
        A = A_of_Re(Re)
        Nmodes = length(Ψ)

        # Load initial guess
        x0 = myreaddlm("data/continued_tws/starts/x$(config.name)-2pi1piRe$(Re)-$(JKL[1])-$(JKL[2])-$(JKL[3]).asc")
        cx0 = config.cx0
        cz0 = config.cz0
        z0 = [x0; cx0; cz0]

        println("Starting Residual: ", norm(residual(x0, cx0, cz0, A, Cx, Cz, N)))

        println("Solving with hookstep...")
        hookstep_sol, hookstep_cx, hookstep_cz, hookstep_iterates = newton_hookstep_bordered!(x0, cx0, cz0; A=A, Cx=Cx, Cz=Cz, N=N, verbose=false)
        println("Search complete.")
    
        println("Norm of solution: ", norm(hookstep_sol))
        println("Wave speed in x: ", hookstep_cx)
        println("Wave speed in z: ", hookstep_cz)

        push!(output, (hookstep_sol, hookstep_cx, hookstep_cz, hookstep_iterates))
        println("\nRun complete.\n\n")
    end
    return output
end


JKL = (2, 2, 4)
TW = :TW1
solutions = run_parameter_search(TW, JKL)
x0 = solutions[1][1]
cx0 = solutions[1][2]
cz0 = solutions[1][3]


# 3. Continue the branch
branch_tw1 = tw_branch_continuation(
    Ψ, A, Cx, Cz, N, x0, cx0, cz0, 200.0;
    Re_min = 150.0,
    Re_max = 350.0,
    max_steps = 1000,
    tol = 1e-10,
    recording_function = power_input
)


branch_tw1.branch[1]


# 5. Plot single branch
using Plots
plt1 = plot_tw_bifurcation(
    [branch_tw1],
    labels = ["TW1 (2,2,4)"],
    quantity_name = "Power Input",
    title = "TW1 Bifurcation: Power Input vs Re"
)
Plots.savefig(plt1, "images/bifurcations/tw1_power.png")


plt = Plots.plot(
        xlabel = "Reynolds Number",
        ylabel = "TW1 Bifurcation: Wavespeed (cz) vs Re",
        legend = :best,
        grid = true,
        size = (1000, 700),
        dpi = 300
)
colors = [:blue, :red, :green, :orange, :purple, :brown, :pink, :gray]
labels = nothing
for (i, branch) in enumerate([branch_tw1])
    label = labels !== nothing ? labels[i] : "Branch $i"
    color = colors[mod1(i, length(colors))]
    
    Plots.plot!(plt, branch.param, branch.cz,
          label = label,
          color = color,
          linewidth = 2.5,
          # marker = :circle,
          # markersize = 3,
          # alpha = 0.8
    )
end
Plots.savefig(plt, "images/bifurcations/tw1_wavespeed.png")


plt


Plots.plot(branch_tw1.param, branch_tw1.pow, label = "Power Input: (2, 2, 4)", linecolor=:red)


branch_tw1.param


branch_tw1.pow[1]


size(Ψ)


# # 4. Try with dissipation too
# branch_tw1_dissipation = tw_branch_continuation(
#     Ψ, A, Cx, Cz, N, x0, cx0, cz0, 200.0;
#     Re_min = 150.0,
#     Re_max = 350.0,
#     recording_function = dissipation
# )

# # 5. Plot single branch
# plt1 = plot_tw_bifurcation(
#     [branch_tw1],
#     labels = ["TW1 (2,2,4)"],
#     quantity_name = "Power Input",
#     title = "TW1 Bifurcation: Power Input vs Re"
# )
# savefig(plt1, "images/bifurcations/tw1_power.png")

# # 6. Plot phase space
# plt2 = plot_tw_phase_diagram(
#     [branch_tw1],
#     labels = ["TW1 (2,2,4)"],
#     title = "TW1 Wave Speed Evolution"
# )
# savefig(plt2, "images/bifurcations/tw1_phase.png")

# # 7. Compare multiple TWs
# Ψ_tw2, ijkl_tw2 = generate_psi_ijkl((2,2,4); symmetry=SymmetryGroup(:TW2))
# A_tw2, Cx_tw2, Cz_tw2, N_tw2 = tw_matrices(Ψ_tw2)
# x0_tw2 = vec(myreaddlm("data/continued_tws/TW2-2pi1piRe250-2-2-4-sol.asc"))

# branch_tw2 = tw_branch_continuation(
#     Ψ_tw2, A_tw2, Cx_tw2, Cz_tw2, N_tw2,
#     x0_tw2, 0.3959, 0.0, 250.0;
#     Re_min = 200.0,
#     Re_max = 350.0,
#     recording_function = power_input
# )

# plt3 = plot_tw_bifurcation(
#     [branch_tw1, branch_tw2],
#     labels = ["TW1", "TW2"],
#     quantity_name = "Power Input",
#     title = "TW Comparison"
# )
# savefig(plt3, "images/bifurcations/tw_comparison.png")

# # 8. Compare with equilibria
# # Assuming you have equilibrium branches already computed
# plt4 = compare_tw_equilibria_bifurcations(
#     [branch_tw1, branch_tw2],  # TW branches
#     [branches_122],             # Equilibrium branches from your earlier work
#     tw_labels = ["TW1", "TW2"],
#     eq_labels = ["EQ (1,2,2)"],
#     quantity_name = "Power Input",
#     title = "Traveling Waves vs Equilibria"
# )
# savefig(plt4, "images/bifurcations/tw_vs_eq.png")
