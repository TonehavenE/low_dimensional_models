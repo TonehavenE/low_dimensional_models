# Polynomials, StaticArrays, OffsetArrays, LinearAlgebra, SparseArrays, StringBuilders, Revise
import Pkg
using LinearAlgebra
using SparseArrays
using NLsolve
using Dates
using Revise
using Polynomials
using Profile
using DelimitedFiles
using Plots
import Base.@kwdef
myreaddlm(filename) = readdlm(filename, comments=true, comment_char='%');


cd("..")
pwd()


includet("src/BasisFunctions.jl")
includet("src/BifurcationGenerator.jl")
includet("src/Hookstep.jl")
includet("src/tw_newton.jl")
includet("src/VelocityGraphs.jl")
includet("src/TWBifurcations.jl")

using .BasisFunctions
using .BifurcationGenerator
using .Hookstep
using .TW_Newton
using .TWBifurcations


# Parameters
TW = :TW1
JKL = (2, 2, 4)
α = 1
γ = 2


# Set up basis and matrices
Ψ, ijkl = generate_psi_ijkl(JKL; symmetry=SymmetryGroup(TW))
A, Cx, Cz, N = tw_matrices(Ψ)
solutions_2_2_4 = run_parameter_search(TW, JKL, α=α, γ=γ)


# Extract Re=200 solution
x0 = solutions_2_2_4[1][1]
cx0 = solutions_2_2_4[1][2]
cz0 = solutions_2_2_4[1][3]


# Continue the branch
branch_tw1_2_2_4 = tw_branch_continuation(
    Ψ, A, Cx, Cz, N, x0, cx0, cz0, 200.0;
    Re_min = 150.0,
    Re_max = 350.0,
    max_steps = 1000,
    tol = 1e-10,
    recording_function = power_input
)


# Plot single branch
plt1 = plot_tw_bifurcation(
    [branch_tw1_2_2_4],
    labels = ["TW1 (2,2,4)"],
    quantity_name = "Power Input",
    title = "TW1 Bifurcation: Power Input vs Re"
)
Plots.savefig(plt1, "images/bifurcations/tw1_power_2_2_4.png")


plt = Plots.plot(
        xlabel = "Reynolds Number",
        ylabel = "Wavespeed (cz)",
        title = "TW1 Bifurcation: Wavespeed (cz) vs Re with (J, K, L) = $JKL",
        legend = :best,
        grid = true,
        size = (1000, 700),
        dpi = 300
)
colors = [:blue, :red, :green, :orange, :purple, :brown, :pink, :gray]
labels = nothing
for (i, branch) in enumerate([branch_tw1_2_2_4])
    label = labels !== nothing ? labels[i] : "Branch $i"
    color = colors[mod1(i, length(colors))]
    
    Plots.plot!(plt, branch.param, branch.cz,
          label = label,
          color = color,
          linewidth = 2.5,
          # marker = :circle,
          # markersize = 3,
          # alpha = 0.8
    )
end
Plots.savefig(plt, "images/bifurcations/tw1_wavespeed_2_2_4.png")


# Do the same for (J, K, L) = (1, 2, 2)
JKL = (1, 2, 2)
# Set up basis and matrices
Ψ, ijkl = generate_psi_ijkl(JKL; symmetry=SymmetryGroup(TW))
A, Cx, Cz, N = tw_matrices(Ψ)
solutions_1_2_2 = run_parameter_search(TW, JKL, α=α, γ=γ)
# Extract Re=200 solution
x0 = solutions_1_2_2[1][1]
cx0 = solutions_1_2_2[1][2]
cz0 = solutions_1_2_2[1][3]


# Continue the branch
branch_tw1_1_2_2 = tw_branch_continuation(
    Ψ, A, Cx, Cz, N, x0, cx0, cz0, 200.0;
    Re_min = 100.0,
    Re_max = 500.0,
    max_steps = 1000,
    tol = 1e-10,
    recording_function = power_input
)


# Plot single branch
plt2 = plot_tw_bifurcation(
    [branch_tw1_1_2_2],
    labels = ["TW1 (1,2,2)"],
    quantity_name = "Power Input",
    title = "TW1 Bifurcation: Power Input vs Re"
)
Plots.savefig(plt2, "images/bifurcations/tw1_power_1_2_2.png")


plt = Plots.plot(
        xlabel = "Reynolds Number",
        ylabel = "Wavespeed (cz)",
        title = "TW1 Bifurcation: Wavespeed (cz) vs Re with (J, K, L) = $JKL",
        legend = :best,
        grid = true,
        size = (1000, 700),
        dpi = 300
)
colors = [:blue, :red, :green, :orange, :purple, :brown, :pink, :gray]
labels = nothing
for (i, branch) in enumerate([branch_tw1_1_2_2])
    label = labels !== nothing ? labels[i] : "Branch $i"
    color = colors[mod1(i, length(colors))]
    
    Plots.plot!(plt, branch.param, branch.cz,
          label = label,
          color = color,
          linewidth = 2.5,
          # marker = :circle,
          # markersize = 3,
          # alpha = 0.8
    )
end
Plots.savefig(plt, "images/bifurcations/tw1_wavespeed_1_2_2.png")


# we can generalize this to a single function, quite easily:
function generate_bifurcations_z_traveling(JKL, TW; α = 1, γ = 2)
    J, K, L = JKL
    Ψ, ijkl = generate_psi_ijkl(JKL; symmetry=SymmetryGroup(TW))
    A, Cx, Cz, N = tw_matrices(Ψ)
    solutions = run_parameter_search(TW, JKL, α=α, γ=γ)
    # Extract Re=200 solution
    x0 = solutions[1][1]
    cx0 = solutions[1][2]
    cz0 = solutions[1][3]
    # Continue the branch
    branch_tw = tw_branch_continuation(
        Ψ, A, Cx, Cz, N, x0, cx0, cz0, 200.0;
        Re_min = 100.0,
        Re_max = 500.0,
        max_steps = 1000,
        tol = 1e-10,
        recording_function = power_input
    )
    # Plot single branch
    plt2 = plot_tw_bifurcation(
        [branch_tw],
        labels = ["TW1 $JKL"],
        quantity_name = "Power Input",
        title = "TW1 Bifurcation: Power Input vs Re"
    )
    Plots.savefig(plt2, "images/bifurcations/tw1_power_$J_$K_$L.png")
    plt = Plots.plot(
        xlabel = "Reynolds Number",
        ylabel = "Wavespeed (cz)",
        title = "TW1 Bifurcation: Wavespeed (cz) vs Re with (J, K, L) = $JKL",
        legend = :best,
        grid = true,
        size = (1000, 700),
        dpi = 300
    )
    colors = [:blue, :red, :green, :orange, :purple, :brown, :pink, :gray]
    labels = nothing
    for (i, branch) in enumerate([branch_tw])
        label = labels !== nothing ? labels[i] : "Branch $i"
        color = colors[mod1(i, length(colors))]
        
        Plots.plot!(plt, branch.param, branch.cz,
              label = label,
              color = color,
              linewidth = 2.5,
              # marker = :circle,
              # markersize = 3,
              # alpha = 0.8
        )
    end
    Plots.savefig(plt, "images/bifurcations/tw1_wavespeed_$J_$K_$L.png")
end
                


generate_bifurcations_z_traveling((3, 3, 6), TW)



